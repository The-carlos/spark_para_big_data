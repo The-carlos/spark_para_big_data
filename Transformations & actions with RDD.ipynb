{
 "cells": [
  {
   "cell_type": "code",
   "execution_count": 50,
   "metadata": {},
   "outputs": [],
   "source": [
    "from pyspark import SparkContext"
   ]
  },
  {
   "cell_type": "code",
   "execution_count": 51,
   "metadata": {},
   "outputs": [],
   "source": [
    "sc = SparkContext(master= \"local\", appName = \"TransformacionesYAcciones\")"
   ]
  },
  {
   "cell_type": "code",
   "execution_count": 52,
   "metadata": {},
   "outputs": [
    {
     "data": {
      "text/plain": [
       "pyspark.rdd.RDD"
      ]
     },
     "execution_count": 52,
     "metadata": {},
     "output_type": "execute_result"
    }
   ],
   "source": [
    "rdd1 = sc.parallelize([1,2,3])\n",
    "type(rdd1)"
   ]
  },
  {
   "cell_type": "code",
   "execution_count": 53,
   "metadata": {},
   "outputs": [
    {
     "name": "stdout",
     "output_type": "stream",
     "text": [
      "ParallelCollectionRDD[0] at readRDDFromFile at PythonRDD.scala:274\n"
     ]
    }
   ],
   "source": [
    " print(rdd1)"
   ]
  },
  {
   "cell_type": "code",
   "execution_count": 54,
   "metadata": {},
   "outputs": [
    {
     "data": {
      "text/plain": [
       "[1, 2, 3]"
      ]
     },
     "execution_count": 54,
     "metadata": {},
     "output_type": "execute_result"
    }
   ],
   "source": [
    "rdd1.collect()"
   ]
  },
  {
   "cell_type": "code",
   "execution_count": 55,
   "metadata": {},
   "outputs": [
    {
     "data": {
      "text/html": [
       "\n",
       "        <div>\n",
       "            <p><b>SparkContext</b></p>\n",
       "\n",
       "            <p><a href=\"http://192.168.0.101:4040\">Spark UI</a></p>\n",
       "\n",
       "            <dl>\n",
       "              <dt>Version</dt>\n",
       "                <dd><code>v3.2.0</code></dd>\n",
       "              <dt>Master</dt>\n",
       "                <dd><code>local</code></dd>\n",
       "              <dt>AppName</dt>\n",
       "                <dd><code>TransformacionesYAcciones</code></dd>\n",
       "            </dl>\n",
       "        </div>\n",
       "        "
      ],
      "text/plain": [
       "<SparkContext master=local appName=TransformacionesYAcciones>"
      ]
     },
     "execution_count": 55,
     "metadata": {},
     "output_type": "execute_result"
    }
   ],
   "source": [
    "sc"
   ]
  },
  {
   "cell_type": "code",
   "execution_count": 56,
   "metadata": {},
   "outputs": [
    {
     "name": "stdout",
     "output_type": "stream",
     "text": [
      "deporte.csv\t deportistaError.csv  modelo_relacional.jpg\r\n",
      "deportista.csv\t evento.csv\t      paises.csv\r\n",
      "deportista2.csv  juegos.csv\t      resultados.csv\r\n"
     ]
    }
   ],
   "source": [
    "!ls /mnt/c/Users/LENOVO/Desktop/Carlos/spark_para_big_data/Platzi_resources/curso-apache-spark-platzi/files/"
   ]
  },
  {
   "cell_type": "code",
   "execution_count": 57,
   "metadata": {},
   "outputs": [],
   "source": [
    "path = \"/mnt/c/Users/LENOVO/Desktop/Carlos/spark_para_big_data/Platzi_resources/curso-apache-spark-platzi/files/\"\n",
    "equiposOlimpicosRDD = sc.textFile(path+\"paises.csv\")\\\n",
    "    .map(lambda line : line.split(\",\"))"
   ]
  },
  {
   "cell_type": "code",
   "execution_count": 58,
   "metadata": {},
   "outputs": [
    {
     "name": "stderr",
     "output_type": "stream",
     "text": [
      "                                                                                \r"
     ]
    },
    {
     "data": {
      "text/plain": [
       "[['id', 'equipo', 'sigla'],\n",
       " ['1', '30. Februar', 'AUT'],\n",
       " ['2', 'A North American Team', 'MEX'],\n",
       " ['3', 'Acipactli', 'MEX'],\n",
       " ['4', 'Acturus', 'ARG']]"
      ]
     },
     "execution_count": 58,
     "metadata": {},
     "output_type": "execute_result"
    }
   ],
   "source": [
    "equiposOlimpicosRDD.take(5)"
   ]
  },
  {
   "cell_type": "code",
   "execution_count": 59,
   "metadata": {},
   "outputs": [],
   "source": [
    "#Liberamos memoria\n",
    "#sc.stop()"
   ]
  },
  {
   "cell_type": "code",
   "execution_count": 60,
   "metadata": {},
   "outputs": [],
   "source": [
    "deportesRDD = sc.textFile(path+\"deporte.csv\")\\\n",
    "    .map(lambda line : line.split(\",\"))"
   ]
  },
  {
   "cell_type": "code",
   "execution_count": 61,
   "metadata": {},
   "outputs": [
    {
     "data": {
      "text/plain": [
       "[['deporte_id', 'deporte'],\n",
       " ['1', 'Basketball'],\n",
       " ['2', 'Judo'],\n",
       " ['3', 'Football'],\n",
       " ['4', 'Tug-Of-War']]"
      ]
     },
     "execution_count": 61,
     "metadata": {},
     "output_type": "execute_result"
    }
   ],
   "source": [
    "deportesRDD.take(5)"
   ]
  },
  {
   "cell_type": "code",
   "execution_count": null,
   "metadata": {},
   "outputs": [],
   "source": []
  },
  {
   "cell_type": "code",
   "execution_count": 62,
   "metadata": {},
   "outputs": [
    {
     "data": {
      "text/plain": [
       "[['id', 'equipo', 'sigla'],\n",
       " ['1', '30. Februar', 'AUT'],\n",
       " ['2', 'A North American Team', 'MEX'],\n",
       " ['3', 'Acipactli', 'MEX'],\n",
       " ['4', 'Acturus', 'ARG'],\n",
       " ['5', 'Afghanistan', 'AFG'],\n",
       " ['6', 'Akatonbo', 'IRL'],\n",
       " ['7', 'Alain IV', 'SUI'],\n",
       " ['8', 'Albania', 'ALB'],\n",
       " ['9', 'Alcaid', 'POR'],\n",
       " ['10', 'Alcyon-6', 'FRA'],\n",
       " ['11', 'Alcyon-7', 'FRA'],\n",
       " ['12', 'Aldebaran', 'ITA'],\n",
       " ['13', 'Aldebaran II', 'ITA'],\n",
       " ['14', 'Aletta', 'IRL']]"
      ]
     },
     "execution_count": 62,
     "metadata": {},
     "output_type": "execute_result"
    }
   ],
   "source": [
    "equiposOlimpicosRDD.take(15)"
   ]
  },
  {
   "cell_type": "markdown",
   "metadata": {},
   "source": [
    "Conts"
   ]
  },
  {
   "cell_type": "code",
   "execution_count": 63,
   "metadata": {},
   "outputs": [
    {
     "data": {
      "text/plain": [
       "231"
      ]
     },
     "execution_count": 63,
     "metadata": {},
     "output_type": "execute_result"
    }
   ],
   "source": [
    "equiposOlimpicosRDD.map(lambda x: (x[2])).distinct().count()"
   ]
  },
  {
   "cell_type": "markdown",
   "metadata": {},
   "source": [
    "Groupby"
   ]
  },
  {
   "cell_type": "code",
   "execution_count": 64,
   "metadata": {},
   "outputs": [
    {
     "data": {
      "text/plain": [
       "[('sigla', 1),\n",
       " ('AUT', 11),\n",
       " ('MEX', 9),\n",
       " ('ARG', 18),\n",
       " ('AFG', 1),\n",
       " ('IRL', 7),\n",
       " ('SUI', 17),\n",
       " ('ALB', 1),\n",
       " ('POR', 21),\n",
       " ('FRA', 155)]"
      ]
     },
     "execution_count": 64,
     "metadata": {},
     "output_type": "execute_result"
    }
   ],
   "source": [
    "equiposOlimpicosRDD.map(lambda x : (x[2], x[1])).groupByKey().mapValues(len).take(10)"
   ]
  },
  {
   "cell_type": "code",
   "execution_count": 65,
   "metadata": {},
   "outputs": [
    {
     "data": {
      "text/plain": [
       "[('sigla', ['equipo']),\n",
       " ('AUT',\n",
       "  ['30. Februar',\n",
       "   'Austria',\n",
       "   'Austria-1',\n",
       "   'Austria-2',\n",
       "   'Breslau',\n",
       "   'Brigantia',\n",
       "   'Donar III',\n",
       "   'Evita VI',\n",
       "   'May-Be 1960',\n",
       "   '\"R.-V. Germania; Leitmeritz\"',\n",
       "   'Surprise']),\n",
       " ('MEX',\n",
       "  ['A North American Team',\n",
       "   'Acipactli',\n",
       "   'Chamukina',\n",
       "   'Mexico',\n",
       "   'Mexico-1',\n",
       "   'Mexico-2',\n",
       "   'Nausikaa 4',\n",
       "   'Tlaloc',\n",
       "   'Xolotl']),\n",
       " ('ARG',\n",
       "  ['Acturus',\n",
       "   'Antares',\n",
       "   'Arcturus',\n",
       "   'Ardilla',\n",
       "   'Argentina',\n",
       "   'Argentina-1',\n",
       "   'Argentina-2',\n",
       "   'Blue Red',\n",
       "   'Covunco III',\n",
       "   'Cupidon III',\n",
       "   'Djinn',\n",
       "   'Gullvinge',\n",
       "   'Matrero II',\n",
       "   'Mizar',\n",
       "   'Pampero',\n",
       "   'Rampage',\n",
       "   'Tango',\n",
       "   'Wiking']),\n",
       " ('AFG', ['Afghanistan']),\n",
       " ('IRL',\n",
       "  ['Akatonbo',\n",
       "   'Aletta',\n",
       "   'Ireland',\n",
       "   'Ireland-1',\n",
       "   'Ireland-2',\n",
       "   'The Cloud',\n",
       "   'Three Leaves']),\n",
       " ('SUI',\n",
       "  ['Alain IV',\n",
       "   'Ali-Baba IV',\n",
       "   'Ali-Baba IX',\n",
       "   'Ali-Baba VI',\n",
       "   'Baccara',\n",
       "   'Ballerina IV',\n",
       "   'Fantasio III',\n",
       "   'Kln',\n",
       "   'Lerina',\n",
       "   'Pousse-Moi Pas VII',\n",
       "   'Switzerland',\n",
       "   'Switzerland-1',\n",
       "   'Switzerland-2',\n",
       "   'Tim-Tam III',\n",
       "   'Ylliam II',\n",
       "   'Ylliam VII',\n",
       "   'Ylliam VIII']),\n",
       " ('ALB', ['Albania']),\n",
       " ('POR',\n",
       "  ['Alcaid',\n",
       "   'Argus',\n",
       "   'Calcinhas',\n",
       "   'Camelia',\n",
       "   'Ciocca III',\n",
       "   'Espadarte',\n",
       "   'Espardate',\n",
       "   'Faneca',\n",
       "   'Galopin De La Font',\n",
       "   'Grifo III',\n",
       "   'Grifo IV',\n",
       "   'Hannover',\n",
       "   \"Ma'Lindo\",\n",
       "   'Notavel',\n",
       "   'Oxalis',\n",
       "   'Portugal',\n",
       "   'Portugal-1',\n",
       "   'Portugal-2',\n",
       "   'Sjhxa',\n",
       "   'Symphony',\n",
       "   'Vicking']),\n",
       " ('FRA',\n",
       "  ['Alcyon-6',\n",
       "   'Alcyon-7',\n",
       "   'Allegro',\n",
       "   'Amulet-3',\n",
       "   'Amulet-7',\n",
       "   'Ariette-10',\n",
       "   'Ariette-8',\n",
       "   'Astrid III',\n",
       "   'Baby-1',\n",
       "   'Baby-9',\n",
       "   '\"Bagatelle Polo Club; Paris\"',\n",
       "   'C.V.A.-14',\n",
       "   'C.V.A.-7',\n",
       "   'Calimucho',\n",
       "   'Calypse II',\n",
       "   'Camille',\n",
       "   'Carabinier-15',\n",
       "   'Carabinier-5',\n",
       "   \"Cercle de l'Aviron Roubaix-4\",\n",
       "   'Cercle Nautique de Reims-4',\n",
       "   'Cinara-13',\n",
       "   'Club Nautique de Dieppe-5',\n",
       "   'Club Nautique de Franais-1',\n",
       "   'Club Nautique de Lyon-2',\n",
       "   'Colette-10',\n",
       "   'Colette-12',\n",
       "   'Compigne Polo Club',\n",
       "   'Crabe I-11',\n",
       "   'Crabe I-2',\n",
       "   'Crabe I-3',\n",
       "   'Crabe II-1',\n",
       "   'Crabe II-12',\n",
       "   'Crabe II-4',\n",
       "   'Crocodile-11',\n",
       "   'Crocodile-13',\n",
       "   'Cupidon Viking',\n",
       "   'Damoiselle',\n",
       "   'Demi-Mondaine-15',\n",
       "   'Demi-Mondaine-17',\n",
       "   'Diabolo St Maurice',\n",
       "   'Dick-8',\n",
       "   'Ducky-16',\n",
       "   'Ducky-4',\n",
       "   'EA II',\n",
       "   'Eissero VI',\n",
       "   'Esterel-1',\n",
       "   'Fada',\n",
       "   'Fantlet-2',\n",
       "   'Fantlet-7',\n",
       "   'Favorite-1',\n",
       "   'Favorite-17',\n",
       "   'Femur-1',\n",
       "   'Femur-18',\n",
       "   'France',\n",
       "   'France-1',\n",
       "   'France-2',\n",
       "   'France-3',\n",
       "   'France-4',\n",
       "   'Freia-19',\n",
       "   'Freia-5',\n",
       "   'Frip IV',\n",
       "   'Galopin-20',\n",
       "   'Galopin-9',\n",
       "   'Gam II',\n",
       "   'Gilliatt V',\n",
       "   'Giselle-6',\n",
       "   'Gitana-2',\n",
       "   'Gitana-21',\n",
       "   'Guyoni',\n",
       "   'Gwendoline-2',\n",
       "   'Gwendoline-22',\n",
       "   'Gyp-23',\n",
       "   'Gyp-6',\n",
       "   'Hb-20',\n",
       "   'Hb-24',\n",
       "   'Jeanette-25',\n",
       "   'Jeannette-18',\n",
       "   'Kannibaltje',\n",
       "   \"L'Aile VI\",\n",
       "   'LaBandera',\n",
       "   'Leipzig',\n",
       "   'Libellule de Paris',\n",
       "   'Libellule de Paris-3',\n",
       "   'Mac Miche',\n",
       "   'Mamie-4',\n",
       "   'Mamie-6',\n",
       "   'Marsouin-26',\n",
       "   'Marsouin-8',\n",
       "   'Martha-1',\n",
       "   'Martha-27',\n",
       "   'Mascaret-28',\n",
       "   'Mascaret-4',\n",
       "   'Mignon-29',\n",
       "   'Mignon-3',\n",
       "   'Namoussa',\n",
       "   'Nina Claire-2',\n",
       "   'Nina Claire-30',\n",
       "   'Olle',\n",
       "   'Pettit-Poucet-6',\n",
       "   'Pierre et Jean-3',\n",
       "   'Pierre et Jean-4',\n",
       "   'Pigoule',\n",
       "   'Pirouette-31',\n",
       "   'Pirouette-5',\n",
       "   'Plume-patte-32',\n",
       "   'Plume-Patte-5',\n",
       "   'Pupilles de Neptune de Lille #1-3',\n",
       "   'Pupilles de Neptune de Lille #2-1',\n",
       "   'Pupilles de Neptune de Lille-1',\n",
       "   \"Qu'Importe\",\n",
       "   'Quand-Mme-2',\n",
       "   'Quand-Mme-33',\n",
       "   'Racing Club de France',\n",
       "   'Red Indian',\n",
       "   'Rose Pompon',\n",
       "   'Rowing Club Castillon-3',\n",
       "   'Rozenn-3',\n",
       "   'Sandra',\n",
       "   'Sarcelle-3',\n",
       "   'Sarcelle-35',\n",
       "   'Scamasaxe-2',\n",
       "   'Scamasaxe-3',\n",
       "   'Scamasaxe-34',\n",
       "   'Sidi Fekkar-36',\n",
       "   'Sidi-Fekkar-14',\n",
       "   'Singy-37',\n",
       "   'Singy-7',\n",
       "   'Snowten III',\n",
       "   'Societ Nautique de la Marne',\n",
       "   'Societ Nautique de la Marne-1',\n",
       "   'Societ Nautique de la Marne-3',\n",
       "   'Socit Nautique de Bayonne',\n",
       "   'Socit Nautique de Bayonne-1',\n",
       "   'Socit Nautique de Bayonne-2',\n",
       "   'Socit Nautique de la Basse Seine-1',\n",
       "   'Socit Nautique de la Basse Seine-2',\n",
       "   'Souriceau-38',\n",
       "   'Souriceau-4',\n",
       "   'Souvenance',\n",
       "   'Stade Franais AC-2',\n",
       "   'Suzon IV-39',\n",
       "   'Suzon IV-5',\n",
       "   'Tornade-16',\n",
       "   'Tournade-40',\n",
       "   'Tramontane',\n",
       "   'Tritons Lillois-2',\n",
       "   'Turquoise-1',\n",
       "   'Turquoise-3',\n",
       "   'Union des Socits Franais de Sports Athletiques',\n",
       "   'United States/France',\n",
       "   'USFSA',\n",
       "   'Verveine-19',\n",
       "   'Verveine-41',\n",
       "   'Virginie',\n",
       "   'Whitini Star'])]"
      ]
     },
     "execution_count": 65,
     "metadata": {},
     "output_type": "execute_result"
    }
   ],
   "source": [
    "equiposOlimpicosRDD.map(lambda x : (x[2], x[1])).groupByKey()\\\n",
    "    .mapValues(list).take(10)"
   ]
  },
  {
   "cell_type": "code",
   "execution_count": 66,
   "metadata": {},
   "outputs": [
    {
     "data": {
      "text/plain": [
       "[['4', 'Acturus', 'ARG'],\n",
       " ['37', 'Antares', 'ARG'],\n",
       " ['42', 'Arcturus', 'ARG'],\n",
       " ['43', 'Ardilla', 'ARG'],\n",
       " ['45', 'Argentina', 'ARG'],\n",
       " ['46', 'Argentina-1', 'ARG'],\n",
       " ['47', 'Argentina-2', 'ARG'],\n",
       " ['119', 'Blue Red', 'ARG'],\n",
       " ['238', 'Covunco III', 'ARG'],\n",
       " ['252', 'Cupidon III', 'ARG'],\n",
       " ['288', 'Djinn', 'ARG'],\n",
       " ['436', 'Gullvinge', 'ARG'],\n",
       " ['644', 'Matrero II', 'ARG'],\n",
       " ['672', 'Mizar', 'ARG'],\n",
       " ['774', 'Pampero', 'ARG'],\n",
       " ['843', 'Rampage', 'ARG'],\n",
       " ['1031', 'Tango', 'ARG'],\n",
       " ['1162', 'Wiking', 'ARG']]"
      ]
     },
     "execution_count": 66,
     "metadata": {},
     "output_type": "execute_result"
    }
   ],
   "source": [
    "equiposArgentinos = equiposOlimpicosRDD.filter(lambda l : \"ARG\" in l)\n",
    "equiposArgentinos.collect()"
   ]
  },
  {
   "cell_type": "code",
   "execution_count": 67,
   "metadata": {},
   "outputs": [
    {
     "data": {
      "text/plain": [
       "[('ARG', 18)]"
      ]
     },
     "execution_count": 67,
     "metadata": {},
     "output_type": "execute_result"
    }
   ],
   "source": [
    "equiposArgentinos.map(lambda x : (x[2], x[1])).groupByKey().mapValues(len).take(2)"
   ]
  },
  {
   "cell_type": "code",
   "execution_count": 68,
   "metadata": {},
   "outputs": [
    {
     "data": {
      "text/plain": [
       "1185"
      ]
     },
     "execution_count": 68,
     "metadata": {},
     "output_type": "execute_result"
    }
   ],
   "source": [
    "equiposOlimpicosRDD.count()"
   ]
  },
  {
   "cell_type": "code",
   "execution_count": 69,
   "metadata": {},
   "outputs": [
    {
     "data": {
      "text/plain": [
       "1185"
      ]
     },
     "execution_count": 69,
     "metadata": {},
     "output_type": "execute_result"
    }
   ],
   "source": [
    "#Nos da una cuenta rápida limitada por la cantidad (en milisegundos) que se de como parametro a la función\n",
    "equiposOlimpicosRDD.countApprox(1000)"
   ]
  },
  {
   "cell_type": "code",
   "execution_count": 70,
   "metadata": {},
   "outputs": [
    {
     "name": "stdout",
     "output_type": "stream",
     "text": [
      "deporte.csv\t deportistaError.csv  modelo_relacional.jpg\r\n",
      "deportista.csv\t evento.csv\t      paises.csv\r\n",
      "deportista2.csv  juegos.csv\t      resultados.csv\r\n"
     ]
    }
   ],
   "source": [
    "!ls /mnt/c/Users/LENOVO/Desktop/Carlos/spark_para_big_data/Platzi_resources/curso-apache-spark-platzi/files/"
   ]
  },
  {
   "cell_type": "code",
   "execution_count": 71,
   "metadata": {},
   "outputs": [],
   "source": [
    "deportistaOlimpicoRDD = sc.textFile(path+\"deportista.csv\").map(lambda l : l.split(\",\"))\n",
    "deportistaOlimpicoRDD2 = sc.textFile(path+\"deportista2.csv\").map(lambda l : l.split(\",\"))"
   ]
  },
  {
   "cell_type": "code",
   "execution_count": 72,
   "metadata": {},
   "outputs": [],
   "source": [
    "#uniomos los dos RDD\n",
    "deportistaOlimpicoRDD = deportistaOlimpicoRDD.union(deportistaOlimpicoRDD2)"
   ]
  },
  {
   "cell_type": "code",
   "execution_count": 73,
   "metadata": {},
   "outputs": [
    {
     "data": {
      "text/plain": [
       "135572"
      ]
     },
     "execution_count": 73,
     "metadata": {},
     "output_type": "execute_result"
    }
   ],
   "source": [
    "deportistaOlimpicoRDD.count()"
   ]
  },
  {
   "cell_type": "code",
   "execution_count": 74,
   "metadata": {},
   "outputs": [
    {
     "data": {
      "text/plain": [
       "[['id', 'equipo', 'sigla'],\n",
       " ['1', '30. Februar', 'AUT'],\n",
       " ['2', 'A North American Team', 'MEX'],\n",
       " ['3', 'Acipactli', 'MEX']]"
      ]
     },
     "execution_count": 74,
     "metadata": {},
     "output_type": "execute_result"
    }
   ],
   "source": [
    "equiposOlimpicosRDD.take(4)"
   ]
  },
  {
   "cell_type": "code",
   "execution_count": 75,
   "metadata": {},
   "outputs": [
    {
     "data": {
      "text/plain": [
       "[['deportista_id', 'nombre', 'genero', 'edad', 'altura', 'peso', 'equipo_id'],\n",
       " ['1', 'A Dijiang', '1', '24', '180', '80', '199'],\n",
       " ['2', 'A Lamusi', '1', '23', '170', '60', '199'],\n",
       " ['3', 'Gunnar Nielsen Aaby', '1', '24', '0', '0', '273']]"
      ]
     },
     "execution_count": 75,
     "metadata": {},
     "output_type": "execute_result"
    }
   ],
   "source": [
    "deportistaOlimpicoRDD.take(4)"
   ]
  },
  {
   "cell_type": "code",
   "execution_count": 76,
   "metadata": {},
   "outputs": [
    {
     "name": "stderr",
     "output_type": "stream",
     "text": [
      "                                                                                \r"
     ]
    },
    {
     "data": {
      "text/plain": [
       "[('199', (['1', 'A Dijiang', '1', '24', '180', '80'], 'CHN')),\n",
       " ('199', (['2', 'A Lamusi', '1', '23', '170', '60'], 'CHN')),\n",
       " ('199', (['602', 'Abudoureheman', '1', '22', '182', '75'], 'CHN')),\n",
       " ('199', (['1463', 'Ai Linuer', '1', '25', '160', '62'], 'CHN')),\n",
       " ('199', (['1464', 'Ai Yanhan', '2', '14', '168', '54'], 'CHN')),\n",
       " ('199', (['3605', 'An Weijiang', '1', '22', '178', '72'], 'CHN'))]"
      ]
     },
     "execution_count": 76,
     "metadata": {},
     "output_type": "execute_result"
    }
   ],
   "source": [
    "deportistaOlimpicoRDD.map(lambda l : [l[-1], l[:-1]])\\\n",
    "    .join(equiposOlimpicosRDD.map(lambda x : [x[0],x[2]]))\\\n",
    "    .take(6)"
   ]
  },
  {
   "cell_type": "code",
   "execution_count": 77,
   "metadata": {},
   "outputs": [
    {
     "name": "stderr",
     "output_type": "stream",
     "text": [
      "                                                                                \r"
     ]
    },
    {
     "data": {
      "text/plain": [
       "[('1012', (['105403', 'Nils Gottfrid Sandstrm', '1', '26', '0', '0'], 'SWE')),\n",
       " ('350',\n",
       "  (['105304', 'Niclas Emanuel Sandells', '1', '28', '185', '72'], 'FIN')),\n",
       " ('810',\n",
       "  (['86083', 'Przemysaw Krzysztof Niemiec', '1', '28', '184', '65'], 'POL')),\n",
       " ('96', (['37931', 'tienne Gailly', '1', '25', '0', '0'], 'BEL')),\n",
       " ('350', (['65200', 'Keijo Tapio Kurttila', '1', '26', '175', '80'], 'FIN')),\n",
       " ('1096',\n",
       "  (['36785', 'Melissa Jeanette Missy Franklin', '2', '17', '188', '77'],\n",
       "   'USA'))]"
      ]
     },
     "execution_count": 77,
     "metadata": {},
     "output_type": "execute_result"
    }
   ],
   "source": [
    "#takeSample te permite obtener una muestra aleatoria del RDD, el primer argument es si queremos valores repetidos, \n",
    "#cuantos elementos vamos a visualizar, semilla aleatoria\n",
    "deportistaOlimpicoRDD.map(lambda l : [l[-1], l[:-1]])\\\n",
    "    .join(equiposOlimpicosRDD.map(lambda x : [x[0],x[2]]))\\\n",
    "    .takeSample(False, 6, 26)"
   ]
  },
  {
   "cell_type": "markdown",
   "metadata": {},
   "source": [
    "# Medallas, por equipo, por jugador."
   ]
  },
  {
   "cell_type": "code",
   "execution_count": 78,
   "metadata": {},
   "outputs": [],
   "source": [
    "resuldatoRDD = sc.textFile(path+\"resultados.csv\")\\\n",
    "    .map(lambda x : x.split(\",\"))"
   ]
  },
  {
   "cell_type": "code",
   "execution_count": 79,
   "metadata": {},
   "outputs": [
    {
     "data": {
      "text/plain": [
       "[['resultado_id', 'medalla', 'deportista_id', 'juego_id', 'evento_id'],\n",
       " ['1', 'NA', '1', '39', '1'],\n",
       " ['2', 'NA', '2', '49', '2'],\n",
       " ['3', 'NA', '3', '7', '3'],\n",
       " ['4', 'Gold', '4', '2', '4']]"
      ]
     },
     "execution_count": 79,
     "metadata": {},
     "output_type": "execute_result"
    }
   ],
   "source": [
    "resuldatoRDD.take(5)"
   ]
  },
  {
   "cell_type": "code",
   "execution_count": 80,
   "metadata": {},
   "outputs": [],
   "source": [
    "resuldatoganadorRDD = resuldatoRDD.filter(lambda x : 'NA' not in x[1])"
   ]
  },
  {
   "cell_type": "code",
   "execution_count": 81,
   "metadata": {},
   "outputs": [
    {
     "data": {
      "text/plain": [
       "[['resultado_id', 'medalla', 'deportista_id', 'juego_id', 'evento_id'],\n",
       " ['4', 'Gold', '4', '2', '4'],\n",
       " ['38', 'Bronze', '15', '7', '19'],\n",
       " ['39', 'Bronze', '15', '7', '20'],\n",
       " ['41', 'Bronze', '16', '50', '14']]"
      ]
     },
     "execution_count": 81,
     "metadata": {},
     "output_type": "execute_result"
    }
   ],
   "source": [
    "resuldatoganadorRDD.take(5)"
   ]
  },
  {
   "cell_type": "code",
   "execution_count": 82,
   "metadata": {},
   "outputs": [
    {
     "name": "stderr",
     "output_type": "stream",
     "text": [
      "                                                                                \r"
     ]
    },
    {
     "data": {
      "text/plain": [
       "[('deportista_id', 1),\n",
       " ('4', 1),\n",
       " ('15', 2),\n",
       " ('16', 1),\n",
       " ('17', 5),\n",
       " ('20', 8),\n",
       " ('21', 1),\n",
       " ('25', 1),\n",
       " ('29', 1),\n",
       " ('30', 1)]"
      ]
     },
     "execution_count": 82,
     "metadata": {},
     "output_type": "execute_result"
    }
   ],
   "source": [
    "resuldatoganadorRDD.map(lambda x : (x[2], x[1])).groupByKey().mapValues(len).take(10)"
   ]
  },
  {
   "cell_type": "code",
   "execution_count": 83,
   "metadata": {},
   "outputs": [
    {
     "data": {
      "text/plain": [
       "[['deportista_id', 'nombre', 'genero', 'edad', 'altura', 'peso', 'equipo_id'],\n",
       " ['1', 'A Dijiang', '1', '24', '180', '80', '199'],\n",
       " ['2', 'A Lamusi', '1', '23', '170', '60', '199'],\n",
       " ['3', 'Gunnar Nielsen Aaby', '1', '24', '0', '0', '273'],\n",
       " ['4', 'Edgar Lindenau Aabye', '1', '34', '0', '0', '278'],\n",
       " ['5', 'Christine Jacoba Aaftink', '2', '21', '185', '82', '705']]"
      ]
     },
     "execution_count": 83,
     "metadata": {},
     "output_type": "execute_result"
    }
   ],
   "source": [
    "deportistaOlimpicoRDD.take(6)"
   ]
  },
  {
   "cell_type": "code",
   "execution_count": 84,
   "metadata": {},
   "outputs": [
    {
     "data": {
      "text/plain": [
       "[['id', 'equipo', 'sigla'],\n",
       " ['1', '30. Februar', 'AUT'],\n",
       " ['2', 'A North American Team', 'MEX'],\n",
       " ['3', 'Acipactli', 'MEX'],\n",
       " ['4', 'Acturus', 'ARG'],\n",
       " ['5', 'Afghanistan', 'AFG']]"
      ]
     },
     "execution_count": 84,
     "metadata": {},
     "output_type": "execute_result"
    }
   ],
   "source": [
    "equiposOlimpicosRDD.take(6)"
   ]
  },
  {
   "cell_type": "code",
   "execution_count": 85,
   "metadata": {},
   "outputs": [],
   "source": [
    "deportistaPaisesRDD = deportistaOlimpicoRDD\\\n",
    "    .map(lambda l : [l[-1], l[:-1]])\\\n",
    "    .join(equiposOlimpicosRDD.map(lambda x : [x[0], x[2]]))"
   ]
  },
  {
   "cell_type": "code",
   "execution_count": 86,
   "metadata": {},
   "outputs": [
    {
     "name": "stderr",
     "output_type": "stream",
     "text": [
      "                                                                                \r"
     ]
    },
    {
     "data": {
      "text/plain": [
       "[('199', (['1', 'A Dijiang', '1', '24', '180', '80'], 'CHN')),\n",
       " ('199', (['2', 'A Lamusi', '1', '23', '170', '60'], 'CHN')),\n",
       " ('199', (['602', 'Abudoureheman', '1', '22', '182', '75'], 'CHN')),\n",
       " ('199', (['1463', 'Ai Linuer', '1', '25', '160', '62'], 'CHN')),\n",
       " ('199', (['1464', 'Ai Yanhan', '2', '14', '168', '54'], 'CHN')),\n",
       " ('199', (['3605', 'An Weijiang', '1', '22', '178', '72'], 'CHN'))]"
      ]
     },
     "execution_count": 86,
     "metadata": {},
     "output_type": "execute_result"
    }
   ],
   "source": [
    "deportistaPaisesRDD.take(6)"
   ]
  },
  {
   "cell_type": "code",
   "execution_count": 87,
   "metadata": {},
   "outputs": [
    {
     "name": "stderr",
     "output_type": "stream",
     "text": [
      "                                                                                \r"
     ]
    },
    {
     "data": {
      "text/plain": [
       "[('74',\n",
       "  ((['65', 'Patimat Abakarova', '2', '21', '165', '49'], 'AZE'), 'Gold')),\n",
       " ('74', ((['129', 'Ruslan Abbasov', '1', '22', '181', '74'], 'AZE'), 'Gold')),\n",
       " ('74', ((['130', 'Tural Abbasov', '1', '18', '182', '76'], 'AZE'), 'Gold')),\n",
       " ('74', ((['131', 'Tran Abbasova', '2', '33', '159', '53'], 'AZE'), 'Gold')),\n",
       " ('74',\n",
       "  ((['335', 'Abdulqdir Abdullayev', '1', '28', '188', '91'], 'AZE'), 'Gold')),\n",
       " ('74',\n",
       "  ((['336', 'Arif Yadulla Abdullayev', '1', '27', '164', '60'], 'AZE'),\n",
       "   'Gold'))]"
      ]
     },
     "execution_count": 87,
     "metadata": {},
     "output_type": "execute_result"
    }
   ],
   "source": [
    "deportistaPaisesRDD.join(resuldatoganadorRDD).take(6)"
   ]
  },
  {
   "cell_type": "code",
   "execution_count": 88,
   "metadata": {},
   "outputs": [
    {
     "name": "stderr",
     "output_type": "stream",
     "text": [
      "                                                                                \r"
     ]
    },
    {
     "data": {
      "text/plain": [
       "[('716',\n",
       "  ((['553', 'John Charles Abrams', '1', '22', '183', '0'], 'NZL'), 'Gold')),\n",
       " ('716',\n",
       "  ((['698', 'Paul Douglas Ackerley', '1', '27', '179', '68'], 'NZL'), 'Gold')),\n",
       " ('716',\n",
       "  ((['754', 'Craig Robert Adair', '1', '21', '187', '81'], 'NZL'), 'Gold')),\n",
       " ('716',\n",
       "  ((['846', 'Valerie Kasanita AdamsVili Price ', '2', '19', '193', '120'],\n",
       "    'NZL'),\n",
       "   'Gold')),\n",
       " ('716',\n",
       "  ((['1511', 'Michael Christopher Aish', '1', '24', '175', '60'], 'NZL'),\n",
       "   'Gold')),\n",
       " ('716',\n",
       "  ((['2464', 'Jo Qesem Ayela Aleh', '2', '22', '171', '58'], 'NZL'), 'Gold'))]"
      ]
     },
     "execution_count": 88,
     "metadata": {},
     "output_type": "execute_result"
    }
   ],
   "source": [
    "deportistaPaisesRDD.join(resuldatoganadorRDD.map(lambda x : [x[2], x[1]])).take(6)"
   ]
  },
  {
   "cell_type": "markdown",
   "metadata": {},
   "source": [
    "# Puntuaje que tienen los paises de los juegos olimpicos."
   ]
  },
  {
   "cell_type": "code",
   "execution_count": 89,
   "metadata": {},
   "outputs": [],
   "source": [
    "ValoresMedallas = {'Gold': 7,\n",
    "'Silver': 5,\n",
    "'Bronze': 4}"
   ]
  },
  {
   "cell_type": "code",
   "execution_count": 90,
   "metadata": {},
   "outputs": [],
   "source": [
    "paisesMedallas = deportistaPaisesRDD.join(resuldatoganadorRDD)"
   ]
  },
  {
   "cell_type": "code",
   "execution_count": 91,
   "metadata": {},
   "outputs": [
    {
     "name": "stderr",
     "output_type": "stream",
     "text": [
      "                                                                                \r"
     ]
    },
    {
     "data": {
      "text/plain": [
       "[('74',\n",
       "  ((['65', 'Patimat Abakarova', '2', '21', '165', '49'], 'AZE'), 'Gold')),\n",
       " ('74', ((['129', 'Ruslan Abbasov', '1', '22', '181', '74'], 'AZE'), 'Gold')),\n",
       " ('74', ((['130', 'Tural Abbasov', '1', '18', '182', '76'], 'AZE'), 'Gold')),\n",
       " ('74', ((['131', 'Tran Abbasova', '2', '33', '159', '53'], 'AZE'), 'Gold')),\n",
       " ('74',\n",
       "  ((['335', 'Abdulqdir Abdullayev', '1', '28', '188', '91'], 'AZE'), 'Gold')),\n",
       " ('74',\n",
       "  ((['336', 'Arif Yadulla Abdullayev', '1', '27', '164', '60'], 'AZE'),\n",
       "   'Gold'))]"
      ]
     },
     "execution_count": 91,
     "metadata": {},
     "output_type": "execute_result"
    }
   ],
   "source": [
    "paisesMedallas.take(6)"
   ]
  },
  {
   "cell_type": "code",
   "execution_count": 92,
   "metadata": {},
   "outputs": [
    {
     "data": {
      "text/plain": [
       "[['AZE', 'Gold'],\n",
       " ['AZE', 'Gold'],\n",
       " ['AZE', 'Gold'],\n",
       " ['AZE', 'Gold'],\n",
       " ['AZE', 'Gold'],\n",
       " ['AZE', 'Gold']]"
      ]
     },
     "execution_count": 92,
     "metadata": {},
     "output_type": "execute_result"
    }
   ],
   "source": [
    "#El segundo valor de esta salida puede ser utilizada como la llave del diccionario de ValoresMedallas\n",
    "paisesMedallas.map(lambda x : [x[1][0][-1], x[1][1]]).take(6)"
   ]
  },
  {
   "cell_type": "code",
   "execution_count": 93,
   "metadata": {},
   "outputs": [
    {
     "data": {
      "text/plain": [
       "[['AZE', 7], ['AZE', 7], ['AZE', 7], ['AZE', 7], ['AZE', 7], ['AZE', 7]]"
      ]
     },
     "execution_count": 93,
     "metadata": {},
     "output_type": "execute_result"
    }
   ],
   "source": [
    "#Accedemos al valor de las llaves para después sumar\n",
    "paisesMedallas.map(lambda x : [x[1][0][-1], ValoresMedallas[x[1][1]]]).take(6)"
   ]
  },
  {
   "cell_type": "code",
   "execution_count": 94,
   "metadata": {},
   "outputs": [],
   "source": [
    "#Guardamos la query\n",
    "paisesMedallas =  paisesMedallas.map(lambda x : [x[1][0][-1], ValoresMedallas[x[1][1]]])"
   ]
  },
  {
   "cell_type": "code",
   "execution_count": 95,
   "metadata": {},
   "outputs": [
    {
     "name": "stderr",
     "output_type": "stream",
     "text": [
      "                                                                                \r"
     ]
    }
   ],
   "source": [
    "#Cambiamos este output a una tupla para poder solucionar este problema con RDD\n",
    "from operator import add\n",
    "conclusion = paisesMedallas.reduceByKey((add)).sortBy(lambda x : x[1], ascending=False)"
   ]
  },
  {
   "cell_type": "code",
   "execution_count": 96,
   "metadata": {},
   "outputs": [
    {
     "data": {
      "text/plain": [
       "[('CAN', 32538),\n",
       " ('ARG', 12520),\n",
       " ('HUN', 10860),\n",
       " ('MEX', 6124),\n",
       " ('RSA', 3788),\n",
       " ('BLR', 3580),\n",
       " ('LTU', 1535),\n",
       " ('MGL', 1460),\n",
       " ('USA', 1342),\n",
       " ('AZE', 1218)]"
      ]
     },
     "execution_count": 96,
     "metadata": {},
     "output_type": "execute_result"
    }
   ],
   "source": [
    "conclusion.take(10)"
   ]
  },
  {
   "cell_type": "code",
   "execution_count": 97,
   "metadata": {},
   "outputs": [],
   "source": [
    "#sc.stop()"
   ]
  },
  {
   "cell_type": "markdown",
   "metadata": {},
   "source": [
    "# Creamos un dataFrame a partir de RDD "
   ]
  },
  {
   "cell_type": "code",
   "execution_count": 103,
   "metadata": {},
   "outputs": [],
   "source": [
    "from pyspark.sql.types import StructType, StructField, IntegerType, StringType, FloatType"
   ]
  },
  {
   "cell_type": "code",
   "execution_count": 98,
   "metadata": {},
   "outputs": [
    {
     "data": {
      "text/plain": [
       "[['deportista_id', 'nombre', 'genero', 'edad', 'altura', 'peso', 'equipo_id'],\n",
       " ['1', 'A Dijiang', '1', '24', '180', '80', '199'],\n",
       " ['2', 'A Lamusi', '1', '23', '170', '60', '199'],\n",
       " ['3', 'Gunnar Nielsen Aaby', '1', '24', '0', '0', '273'],\n",
       " ['4', 'Edgar Lindenau Aabye', '1', '34', '0', '0', '278'],\n",
       " ['5', 'Christine Jacoba Aaftink', '2', '21', '185', '82', '705']]"
      ]
     },
     "execution_count": 98,
     "metadata": {},
     "output_type": "execute_result"
    }
   ],
   "source": [
    "deportistaOlimpicoRDD.take(6)"
   ]
  },
  {
   "cell_type": "code",
   "execution_count": 99,
   "metadata": {},
   "outputs": [],
   "source": [
    "def eliminaEncabezado(indice, iterador):\n",
    "        return iter(list(iterador)[1:])"
   ]
  },
  {
   "cell_type": "code",
   "execution_count": 100,
   "metadata": {},
   "outputs": [],
   "source": [
    "deportistaOlimpicoRDD = deportistaOlimpicoRDD.mapPartitionsWithIndex(eliminaEncabezado)"
   ]
  },
  {
   "cell_type": "code",
   "execution_count": 101,
   "metadata": {},
   "outputs": [
    {
     "data": {
      "text/plain": [
       "[['1', 'A Dijiang', '1', '24', '180', '80', '199'],\n",
       " ['2', 'A Lamusi', '1', '23', '170', '60', '199'],\n",
       " ['3', 'Gunnar Nielsen Aaby', '1', '24', '0', '0', '273'],\n",
       " ['4', 'Edgar Lindenau Aabye', '1', '34', '0', '0', '278'],\n",
       " ['5', 'Christine Jacoba Aaftink', '2', '21', '185', '82', '705']]"
      ]
     },
     "execution_count": 101,
     "metadata": {},
     "output_type": "execute_result"
    }
   ],
   "source": [
    "deportistaOlimpicoRDD.take(5)"
   ]
  },
  {
   "cell_type": "code",
   "execution_count": 102,
   "metadata": {},
   "outputs": [],
   "source": [
    "#Casteamos el tipo de columnas como un schema\n",
    "deportistaOlimpicoRDD = deportistaOlimpicoRDD.map(lambda x : (\n",
    "    int(x[0]),\n",
    "    x[1],\n",
    "    int(x[2]),\n",
    "    int(x[3]),\n",
    "    int(x[4]),\n",
    "    float(x[5]),\n",
    "    int(x[6]),\n",
    "    ))"
   ]
  },
  {
   "cell_type": "code",
   "execution_count": 105,
   "metadata": {},
   "outputs": [],
   "source": [
    "schema = StructType([\n",
    "    StructField(\"deportista_id\", IntegerType(), False),\n",
    "    StructField(\"nombre\", StringType(), False),\n",
    "    StructField(\"genero\", StringType(), False),\n",
    "    StructField(\"edad\", IntegerType(), False),\n",
    "    StructField(\"altura\", IntegerType(), False),\n",
    "    StructField(\"peso\", FloatType(), False),\n",
    "    StructField(\"equipo_id\", IntegerType(), False)\n",
    "])"
   ]
  },
  {
   "cell_type": "code",
   "execution_count": 113,
   "metadata": {},
   "outputs": [],
   "source": [
    "from pyspark.sql import SparkSession\n",
    "from pyspark.sql.types import StructType, StructField, IntegerType, StringType, FloatType\n",
    "from pyspark.sql.types import Row\n",
    "from pyspark.sql import SQLContext\n",
    "\n",
    "sqlContext = SQLContext(sc)\n"
   ]
  },
  {
   "cell_type": "code",
   "execution_count": 117,
   "metadata": {},
   "outputs": [
    {
     "name": "stdout",
     "output_type": "stream",
     "text": [
      "+-------------+--------------------+------+----+------+----+---------+\n",
      "|deportista_id|              nombre|genero|edad|altura|peso|equipo_id|\n",
      "+-------------+--------------------+------+----+------+----+---------+\n",
      "|            1|           A Dijiang|     1|  24|   180|80.0|      199|\n",
      "|            2|            A Lamusi|     1|  23|   170|60.0|      199|\n",
      "|            3| Gunnar Nielsen Aaby|     1|  24|     0| 0.0|      273|\n",
      "|            4|Edgar Lindenau Aabye|     1|  34|     0| 0.0|      278|\n",
      "|            5|Christine Jacoba ...|     2|  21|   185|82.0|      705|\n",
      "+-------------+--------------------+------+----+------+----+---------+\n",
      "only showing top 5 rows\n",
      "\n"
     ]
    }
   ],
   "source": [
    "sqlContext.createDataFrame(deportistaOlimpicoRDD, schema).show(5)"
   ]
  },
  {
   "cell_type": "code",
   "execution_count": null,
   "metadata": {},
   "outputs": [],
   "source": []
  }
 ],
 "metadata": {
  "kernelspec": {
   "display_name": "Python 3 (ipykernel)",
   "language": "python",
   "name": "python3"
  },
  "language_info": {
   "codemirror_mode": {
    "name": "ipython",
    "version": 3
   },
   "file_extension": ".py",
   "mimetype": "text/x-python",
   "name": "python",
   "nbconvert_exporter": "python",
   "pygments_lexer": "ipython3",
   "version": "3.8.10"
  }
 },
 "nbformat": 4,
 "nbformat_minor": 4
}
