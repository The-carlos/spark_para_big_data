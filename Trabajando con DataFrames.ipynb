{
 "cells": [
  {
   "cell_type": "markdown",
   "metadata": {},
   "source": [
    "# NOTA: show() funciona para DataFrames, mientras que take() funciona para RDDs"
   ]
  },
  {
   "cell_type": "code",
   "execution_count": 1,
   "metadata": {},
   "outputs": [],
   "source": [
    "from pyspark import SparkContext\n",
    "from pyspark.sql import SparkSession\n",
    "from pyspark.sql.types import StructType, StructField, IntegerType, StringType, FloatType\n",
    "from pyspark.sql.types import Row\n",
    "from pyspark.sql import SQLContext"
   ]
  },
  {
   "cell_type": "markdown",
   "metadata": {},
   "source": [
    "# Crear un dataFrame a partir de un archivo plano"
   ]
  },
  {
   "cell_type": "code",
   "execution_count": 2,
   "metadata": {},
   "outputs": [
    {
     "name": "stderr",
     "output_type": "stream",
     "text": [
      "21/10/31 08:37:50 WARN Utils: Your hostname, DESKTOP-7QUJ4FH resolves to a loopback address: 127.0.1.1; using 192.168.0.101 instead (on interface wifi0)\n",
      "21/10/31 08:37:50 WARN Utils: Set SPARK_LOCAL_IP if you need to bind to another address\n",
      "Using Spark's default log4j profile: org/apache/spark/log4j-defaults.properties\n",
      "Setting default log level to \"WARN\".\n",
      "To adjust logging level use sc.setLogLevel(newLevel). For SparkR, use setLogLevel(newLevel).\n",
      "21/10/31 08:38:12 WARN NativeCodeLoader: Unable to load native-hadoop library for your platform... using builtin-java classes where applicable\n",
      "/home/thecarlos/.local/lib/python3.8/site-packages/pyspark/sql/context.py:77: FutureWarning: Deprecated in 3.0.0. Use SparkSession.builder.getOrCreate() instead.\n",
      "  warnings.warn(\n"
     ]
    }
   ],
   "source": [
    "spark = SparkContext(master = \"local\", appName = \"DataFrames\")\n",
    "sqlContext = SQLContext(spark)"
   ]
  },
  {
   "cell_type": "code",
   "execution_count": 3,
   "metadata": {},
   "outputs": [],
   "source": [
    "#podemos crear un DataFrame de 2 formas:"
   ]
  },
  {
   "cell_type": "code",
   "execution_count": 4,
   "metadata": {},
   "outputs": [],
   "source": [
    "path = \"/mnt/c/Users/LENOVO/Desktop/Carlos/spark_para_big_data/Platzi_resources/curso-apache-spark-platzi/files/\""
   ]
  },
  {
   "cell_type": "code",
   "execution_count": 5,
   "metadata": {},
   "outputs": [
    {
     "name": "stdout",
     "output_type": "stream",
     "text": [
      "deporte.csv\t deportistaError.csv  modelo_relacional.jpg\r\n",
      "deportista.csv\t evento.csv\t      paises.csv\r\n",
      "deportista2.csv  juegos.csv\t      resultados.csv\r\n"
     ]
    }
   ],
   "source": [
    "!ls /mnt/c/Users/LENOVO/Desktop/Carlos/spark_para_big_data/Platzi_resources/curso-apache-spark-platzi/files/"
   ]
  },
  {
   "cell_type": "code",
   "execution_count": 6,
   "metadata": {},
   "outputs": [],
   "source": [
    "#Creamos esquema para juegos.csv\n",
    "juegoSchema = StructType([\n",
    "    StructField(\"juego_id\", IntegerType(), False),\n",
    "    StructField(\"annio\", StringType(), False),\n",
    "    StructField(\"temporada\", StringType(), False),\n",
    "    StructField(\"ciudad\", StringType(), False)\n",
    "])\n",
    "\n",
    "#Cargamos el archivo\n",
    "juegoDF = sqlContext.read.schema(juegoSchema)\\\n",
    "    .option(\"header\", \"true\").csv(path+\"juegos.csv\")"
   ]
  },
  {
   "cell_type": "code",
   "execution_count": 7,
   "metadata": {},
   "outputs": [
    {
     "name": "stderr",
     "output_type": "stream",
     "text": [
      "21/10/31 08:38:34 WARN CSVHeaderChecker: Number of column in CSV header is not equal to number of fields in the schema:\n",
      " Header length: 5, schema size: 4\n",
      "CSV file: file:///mnt/c/Users/LENOVO/Desktop/Carlos/spark_para_big_data/Platzi_resources/curso-apache-spark-platzi/files/juegos.csv\n",
      "                                                                                \r"
     ]
    },
    {
     "name": "stdout",
     "output_type": "stream",
     "text": [
      "+--------+-----------+---------+------+\n",
      "|juego_id|      annio|temporada|ciudad|\n",
      "+--------+-----------+---------+------+\n",
      "|       1|1896 Verano|     1896|Verano|\n",
      "|       2|1900 Verano|     1900|Verano|\n",
      "|       3|1904 Verano|     1904|Verano|\n",
      "|       4|1906 Verano|     1906|Verano|\n",
      "+--------+-----------+---------+------+\n",
      "only showing top 4 rows\n",
      "\n"
     ]
    }
   ],
   "source": [
    "juegoDF.show(4)"
   ]
  },
  {
   "cell_type": "code",
   "execution_count": 8,
   "metadata": {},
   "outputs": [],
   "source": [
    "#XXdeporte.csv\tXX deportistaError.csv  modelo_relacional.jpg\n",
    "#XXdeportista.csvXX\t XXevento.csv\tXX      XXpaises.csvXX\n",
    "#XXdeportista2.csvXX  XXjuegos.csv\tXX      XXresultados.csvXX"
   ]
  },
  {
   "cell_type": "code",
   "execution_count": 9,
   "metadata": {},
   "outputs": [
    {
     "name": "stdout",
     "output_type": "stream",
     "text": [
      "deporte_id,deporte\r",
      "\r\n",
      "1,Basketball\r",
      "\r\n",
      "2,Judo\r",
      "\r\n",
      "3,Football\r",
      "\r\n",
      "4,Tug-Of-War\r",
      "\r\n"
     ]
    }
   ],
   "source": [
    "!head -n 5 /mnt/c/Users/LENOVO/Desktop/Carlos/spark_para_big_data/Platzi_resources/curso-apache-spark-platzi/files/deporte.csv"
   ]
  },
  {
   "cell_type": "code",
   "execution_count": 10,
   "metadata": {},
   "outputs": [],
   "source": [
    "#Creamos esquema para deporte.csv\n",
    "deporteSchema = StructType([\n",
    "    StructField(\"deporte_id\", IntegerType(), False),\n",
    "    StructField(\"deporte\", StringType(), False)\n",
    "])\n",
    "\n",
    "#Cargamos el archivo\n",
    "deporteDF = sqlContext.read.schema(deporteSchema)\\\n",
    "    .option(\"header\", \"true\").csv(path+\"deporte.csv\")"
   ]
  },
  {
   "cell_type": "code",
   "execution_count": 11,
   "metadata": {},
   "outputs": [
    {
     "name": "stdout",
     "output_type": "stream",
     "text": [
      "+----------+----------+\n",
      "|deporte_id|   deporte|\n",
      "+----------+----------+\n",
      "|         1|Basketball|\n",
      "|         2|      Judo|\n",
      "|         3|  Football|\n",
      "|         4|Tug-Of-War|\n",
      "+----------+----------+\n",
      "only showing top 4 rows\n",
      "\n"
     ]
    }
   ],
   "source": [
    "deporteDF.show(4)"
   ]
  },
  {
   "cell_type": "code",
   "execution_count": 12,
   "metadata": {},
   "outputs": [
    {
     "name": "stdout",
     "output_type": "stream",
     "text": [
      "deportista_id,nombre,genero,edad,altura,peso,equipo_id\r",
      "\r\n",
      "1,A Dijiang,1,24,180,80,199\r",
      "\r\n",
      "2,A Lamusi,1,23,170,60,199\r",
      "\r\n",
      "3,Gunnar Nielsen Aaby,1,24,,,273\r",
      "\r\n",
      "4,Edgar Lindenau Aabye,1,34,,,278\r",
      "\r\n"
     ]
    }
   ],
   "source": [
    "!head -n 5 /mnt/c/Users/LENOVO/Desktop/Carlos/spark_para_big_data/Platzi_resources/curso-apache-spark-platzi/files/deportistaError.csv"
   ]
  },
  {
   "cell_type": "code",
   "execution_count": 13,
   "metadata": {},
   "outputs": [],
   "source": [
    "#Creamos esquema para deportistaError.csv\n",
    "deportistaErrorSchema = StructType([\n",
    "    StructField(\"deportista_id\", IntegerType(), False),\n",
    "    StructField(\"nombre\", StringType(), False),\n",
    "    StructField(\"genero\", StringType(), False),\n",
    "    StructField(\"edad\", IntegerType(), False),\n",
    "    StructField(\"altura\", IntegerType(), False),\n",
    "    StructField(\"peso\", FloatType(), False),\n",
    "    StructField(\"equipo_id\", IntegerType(), False)\n",
    "])\n",
    "\n",
    "#Cargamos el archivo\n",
    "deportistaErrorDF = sqlContext.read.schema(deportistaErrorSchema)\\\n",
    "    .option(\"header\", \"true\").csv(path+\"deportistaError.csv\")"
   ]
  },
  {
   "cell_type": "code",
   "execution_count": 14,
   "metadata": {},
   "outputs": [
    {
     "name": "stdout",
     "output_type": "stream",
     "text": [
      "+-------------+--------------------+------+----+------+----+---------+\n",
      "|deportista_id|              nombre|genero|edad|altura|peso|equipo_id|\n",
      "+-------------+--------------------+------+----+------+----+---------+\n",
      "|            1|           A Dijiang|     1|  24|   180|80.0|      199|\n",
      "|            2|            A Lamusi|     1|  23|   170|60.0|      199|\n",
      "|            3| Gunnar Nielsen Aaby|     1|  24|  null|null|      273|\n",
      "|            4|Edgar Lindenau Aabye|     1|  34|  null|null|      278|\n",
      "+-------------+--------------------+------+----+------+----+---------+\n",
      "only showing top 4 rows\n",
      "\n"
     ]
    }
   ],
   "source": [
    "deportistaErrorDF.show(4)"
   ]
  },
  {
   "cell_type": "code",
   "execution_count": 15,
   "metadata": {},
   "outputs": [
    {
     "name": "stdout",
     "output_type": "stream",
     "text": [
      "deportista_id,nombre,genero,edad,altura,peso,equipo_id\r",
      "\r\n",
      "1,A Dijiang,1,24,180,80,199\r",
      "\r\n",
      "2,A Lamusi,1,23,170,60,199\r",
      "\r\n",
      "3,Gunnar Nielsen Aaby,1,24,0,0,273\r",
      "\r\n",
      "4,Edgar Lindenau Aabye,1,34,0,0,278\r",
      "\r\n"
     ]
    }
   ],
   "source": [
    "!head -n 5 /mnt/c/Users/LENOVO/Desktop/Carlos/spark_para_big_data/Platzi_resources/curso-apache-spark-platzi/files/deportista.csv"
   ]
  },
  {
   "cell_type": "code",
   "execution_count": 16,
   "metadata": {},
   "outputs": [],
   "source": [
    "#Creamos esquema para deportista.csv\n",
    "deportistaSchema = StructType([\n",
    "    StructField(\"deportista_id\", IntegerType(), False),\n",
    "    StructField(\"nombre\", StringType(), False),\n",
    "    StructField(\"genero\", StringType(), False),\n",
    "    StructField(\"edad\", IntegerType(), False),\n",
    "    StructField(\"altura\", IntegerType(), False),\n",
    "    StructField(\"peso\", FloatType(), False),\n",
    "    StructField(\"equipo_id\", IntegerType(), False)\n",
    "])\n",
    "\n",
    "#Cargamos el archivo\n",
    "deportistaDF = sqlContext.read.schema(deportistaSchema)\\\n",
    "    .option(\"header\", \"true\").csv(path+\"deportista.csv\")"
   ]
  },
  {
   "cell_type": "code",
   "execution_count": 17,
   "metadata": {},
   "outputs": [
    {
     "name": "stdout",
     "output_type": "stream",
     "text": [
      "+-------------+--------------------+------+----+------+----+---------+\n",
      "|deportista_id|              nombre|genero|edad|altura|peso|equipo_id|\n",
      "+-------------+--------------------+------+----+------+----+---------+\n",
      "|            1|           A Dijiang|     1|  24|   180|80.0|      199|\n",
      "|            2|            A Lamusi|     1|  23|   170|60.0|      199|\n",
      "|            3| Gunnar Nielsen Aaby|     1|  24|     0| 0.0|      273|\n",
      "|            4|Edgar Lindenau Aabye|     1|  34|     0| 0.0|      278|\n",
      "|            5|Christine Jacoba ...|     2|  21|   185|82.0|      705|\n",
      "+-------------+--------------------+------+----+------+----+---------+\n",
      "only showing top 5 rows\n",
      "\n"
     ]
    }
   ],
   "source": [
    "deportistaDF.show(5)"
   ]
  },
  {
   "cell_type": "code",
   "execution_count": 18,
   "metadata": {},
   "outputs": [
    {
     "name": "stdout",
     "output_type": "stream",
     "text": [
      "evento_id,evento,deporte_id\r",
      "\r\n",
      "1,Basketball Men's Basketball,1\r",
      "\r\n",
      "2,Judo Men's Extra-Lightweight,2\r",
      "\r\n",
      "3,Football Men's Football,3\r",
      "\r\n",
      "4,Tug-Of-War Men's Tug-Of-War,4\r",
      "\r\n"
     ]
    }
   ],
   "source": [
    "!head -n 5 /mnt/c/Users/LENOVO/Desktop/Carlos/spark_para_big_data/Platzi_resources/curso-apache-spark-platzi/files/evento.csv"
   ]
  },
  {
   "cell_type": "code",
   "execution_count": 19,
   "metadata": {},
   "outputs": [],
   "source": [
    "#Creamos esquema para evento.csv\n",
    "eventoSchema = StructType([\n",
    "    StructField(\"evento_id\", IntegerType(), False),\n",
    "    StructField(\"evento\", StringType(), False),\n",
    "    StructField(\"deporte_id\", IntegerType(), False)\n",
    "])\n",
    "\n",
    "#Cargamos el archivo\n",
    "eventoDF = sqlContext.read.schema(eventoSchema)\\\n",
    "    .option(\"header\", \"true\").csv(path+\"evento.csv\")"
   ]
  },
  {
   "cell_type": "code",
   "execution_count": 20,
   "metadata": {},
   "outputs": [
    {
     "name": "stdout",
     "output_type": "stream",
     "text": [
      "+---------+--------------------+----------+\n",
      "|evento_id|              evento|deporte_id|\n",
      "+---------+--------------------+----------+\n",
      "|        1|Basketball Men's ...|         1|\n",
      "|        2|Judo Men's Extra-...|         2|\n",
      "|        3|Football Men's Fo...|         3|\n",
      "|        4|Tug-Of-War Men's ...|         4|\n",
      "|        5|Speed Skating Wom...|         5|\n",
      "+---------+--------------------+----------+\n",
      "only showing top 5 rows\n",
      "\n"
     ]
    }
   ],
   "source": [
    "eventoDF.show(5)"
   ]
  },
  {
   "cell_type": "code",
   "execution_count": 21,
   "metadata": {},
   "outputs": [
    {
     "name": "stdout",
     "output_type": "stream",
     "text": [
      "id,equipo,sigla\r",
      "\r\n",
      "1,30. Februar,AUT\r",
      "\r\n",
      "2,A North American Team,MEX\r",
      "\r\n",
      "3,Acipactli,MEX\r",
      "\r\n",
      "4,Acturus,ARG\r",
      "\r\n"
     ]
    }
   ],
   "source": [
    "!head -n 5 /mnt/c/Users/LENOVO/Desktop/Carlos/spark_para_big_data/Platzi_resources/curso-apache-spark-platzi/files/paises.csv"
   ]
  },
  {
   "cell_type": "code",
   "execution_count": 22,
   "metadata": {},
   "outputs": [],
   "source": [
    "#Creamos esquema para paises.csv\n",
    "paisesSchema = StructType([\n",
    "    StructField(\"id\", IntegerType(), False),\n",
    "    StructField(\"equipo\", StringType(), False),\n",
    "    StructField(\"sigla\", StringType(), False),\n",
    "])\n",
    "\n",
    "#Cargamos el archivo\n",
    "paisesDF = sqlContext.read.schema(paisesSchema)\\\n",
    "    .option(\"header\", \"true\").csv(path+\"paises.csv\")"
   ]
  },
  {
   "cell_type": "code",
   "execution_count": 23,
   "metadata": {},
   "outputs": [
    {
     "name": "stdout",
     "output_type": "stream",
     "text": [
      "+---+--------------------+-----+\n",
      "| id|              equipo|sigla|\n",
      "+---+--------------------+-----+\n",
      "|  1|         30. Februar|  AUT|\n",
      "|  2|A North American ...|  MEX|\n",
      "|  3|           Acipactli|  MEX|\n",
      "|  4|             Acturus|  ARG|\n",
      "|  5|         Afghanistan|  AFG|\n",
      "+---+--------------------+-----+\n",
      "only showing top 5 rows\n",
      "\n"
     ]
    }
   ],
   "source": [
    "paisesDF.show(5)"
   ]
  },
  {
   "cell_type": "code",
   "execution_count": 24,
   "metadata": {},
   "outputs": [
    {
     "name": "stdout",
     "output_type": "stream",
     "text": [
      "67787,Lee BongJu,1,27,167,56,970\r",
      "\r\n",
      "67788,Lee BuTi,1,23,164,54,203\r",
      "\r\n",
      "67789,Anthony N. Buddy Lee,1,34,172,62,1096\r",
      "\r\n",
      "67790,Alfred A. Butch Lee Porter,1,19,186,80,825\r",
      "\r\n",
      "67791,Lee ByeongGu,1,22,175,68,970\r",
      "\r\n"
     ]
    }
   ],
   "source": [
    "!head -n 5 /mnt/c/Users/LENOVO/Desktop/Carlos/spark_para_big_data/Platzi_resources/curso-apache-spark-platzi/files/deportista2.csv"
   ]
  },
  {
   "cell_type": "code",
   "execution_count": 25,
   "metadata": {},
   "outputs": [],
   "source": [
    "#Creamos esquema para deportista2.csv\n",
    "deportista2Schema = StructType([\n",
    "    StructField(\"deportista_id\", IntegerType(), False),\n",
    "    StructField(\"nombre\", StringType(), False),\n",
    "    StructField(\"genero\", StringType(), False),\n",
    "    StructField(\"edad\", IntegerType(), False),\n",
    "    StructField(\"altura\", IntegerType(), False),\n",
    "    StructField(\"peso\", FloatType(), False),\n",
    "    StructField(\"equipo_id\", IntegerType(), False)\n",
    "])\n",
    "\n",
    "#Cargamos el archivo\n",
    "deportista2DF = sqlContext.read.schema(deportista2Schema)\\\n",
    "    .option(\"header\", \"false\").csv(path+\"deportista2.csv\")"
   ]
  },
  {
   "cell_type": "code",
   "execution_count": 26,
   "metadata": {},
   "outputs": [
    {
     "name": "stdout",
     "output_type": "stream",
     "text": [
      "+-------------+--------------------+------+----+------+----+---------+\n",
      "|deportista_id|              nombre|genero|edad|altura|peso|equipo_id|\n",
      "+-------------+--------------------+------+----+------+----+---------+\n",
      "|        67787|          Lee BongJu|     1|  27|   167|56.0|      970|\n",
      "|        67788|            Lee BuTi|     1|  23|   164|54.0|      203|\n",
      "|        67789|Anthony N. Buddy Lee|     1|  34|   172|62.0|     1096|\n",
      "|        67790|Alfred A. Butch L...|     1|  19|   186|80.0|      825|\n",
      "|        67791|        Lee ByeongGu|     1|  22|   175|68.0|      970|\n",
      "+-------------+--------------------+------+----+------+----+---------+\n",
      "only showing top 5 rows\n",
      "\n"
     ]
    }
   ],
   "source": [
    "deportista2DF.show(5)"
   ]
  },
  {
   "cell_type": "code",
   "execution_count": 27,
   "metadata": {},
   "outputs": [],
   "source": [
    "deportistaDF = deportistaDF.union(deportista2DF)"
   ]
  },
  {
   "cell_type": "code",
   "execution_count": 28,
   "metadata": {},
   "outputs": [
    {
     "name": "stderr",
     "output_type": "stream",
     "text": [
      "                                                                                \r"
     ]
    },
    {
     "data": {
      "text/plain": [
       "135571"
      ]
     },
     "execution_count": 28,
     "metadata": {},
     "output_type": "execute_result"
    }
   ],
   "source": [
    "deportistaDF.count()"
   ]
  },
  {
   "cell_type": "code",
   "execution_count": 29,
   "metadata": {},
   "outputs": [
    {
     "name": "stdout",
     "output_type": "stream",
     "text": [
      "resultado_id,medalla,deportista_id,juego_id,evento_id\r",
      "\r\n",
      "1,NA,1,39,1\r",
      "\r\n",
      "2,NA,2,49,2\r",
      "\r\n",
      "3,NA,3,7,3\r",
      "\r\n",
      "4,Gold,4,2,4\r",
      "\r\n"
     ]
    }
   ],
   "source": [
    "!head -n 5 /mnt/c/Users/LENOVO/Desktop/Carlos/spark_para_big_data/Platzi_resources/curso-apache-spark-platzi/files/resultados.csv"
   ]
  },
  {
   "cell_type": "code",
   "execution_count": 30,
   "metadata": {},
   "outputs": [],
   "source": [
    "#Creamos esquema para resultados.csv\n",
    "resultadosSchema = StructType([\n",
    "    StructField(\"resultado_id\", IntegerType(), False),\n",
    "    StructField(\"medalla\", StringType(), False),\n",
    "    StructField(\"deportista_id\", IntegerType(), False),\n",
    "    StructField(\"juego_id\", IntegerType(), False),\n",
    "    StructField(\"evento_id\", IntegerType(), False)\n",
    "])\n",
    "\n",
    "#Cargamos el archivo\n",
    "resultadosDF = sqlContext.read.schema(resultadosSchema)\\\n",
    "    .option(\"header\", \"true\").csv(path+\"resultados.csv\")"
   ]
  },
  {
   "cell_type": "code",
   "execution_count": 31,
   "metadata": {},
   "outputs": [
    {
     "name": "stdout",
     "output_type": "stream",
     "text": [
      "+------------+-------+-------------+--------+---------+\n",
      "|resultado_id|medalla|deportista_id|juego_id|evento_id|\n",
      "+------------+-------+-------------+--------+---------+\n",
      "|           1|     NA|            1|      39|        1|\n",
      "|           2|     NA|            2|      49|        2|\n",
      "|           3|     NA|            3|       7|        3|\n",
      "|           4|   Gold|            4|       2|        4|\n",
      "|           5|     NA|            5|      36|        5|\n",
      "+------------+-------+-------------+--------+---------+\n",
      "only showing top 5 rows\n",
      "\n"
     ]
    }
   ],
   "source": [
    "resultadosDF.show(5)"
   ]
  },
  {
   "cell_type": "markdown",
   "metadata": {},
   "source": [
    "# Revisar schema de tabas. Renombrar, borrarcolumnas"
   ]
  },
  {
   "cell_type": "code",
   "execution_count": 32,
   "metadata": {},
   "outputs": [
    {
     "name": "stdout",
     "output_type": "stream",
     "text": [
      "root\n",
      " |-- deporte_id: integer (nullable = true)\n",
      " |-- deporte: string (nullable = true)\n",
      "\n"
     ]
    }
   ],
   "source": [
    "deporteDF.printSchema()"
   ]
  },
  {
   "cell_type": "code",
   "execution_count": 33,
   "metadata": {},
   "outputs": [
    {
     "name": "stdout",
     "output_type": "stream",
     "text": [
      "root\n",
      " |-- deportista_id: integer (nullable = true)\n",
      " |-- nombre: string (nullable = true)\n",
      " |-- genero: string (nullable = true)\n",
      " |-- edad: integer (nullable = true)\n",
      " |-- altura: integer (nullable = true)\n",
      " |-- peso: float (nullable = true)\n",
      " |-- equipo_id: integer (nullable = true)\n",
      "\n"
     ]
    }
   ],
   "source": [
    "deportistaDF.printSchema()"
   ]
  },
  {
   "cell_type": "code",
   "execution_count": 34,
   "metadata": {},
   "outputs": [],
   "source": [
    "deportistaDF = deportistaDF.withColumnRenamed(\"genero\", \"sexo\").drop(\"altura\")"
   ]
  },
  {
   "cell_type": "code",
   "execution_count": 35,
   "metadata": {},
   "outputs": [
    {
     "name": "stdout",
     "output_type": "stream",
     "text": [
      "root\n",
      " |-- deportista_id: integer (nullable = true)\n",
      " |-- nombre: string (nullable = true)\n",
      " |-- sexo: string (nullable = true)\n",
      " |-- edad: integer (nullable = true)\n",
      " |-- peso: float (nullable = true)\n",
      " |-- equipo_id: integer (nullable = true)\n",
      "\n"
     ]
    }
   ],
   "source": [
    "deportistaDF.printSchema()"
   ]
  },
  {
   "cell_type": "markdown",
   "metadata": {},
   "source": [
    "# Función select"
   ]
  },
  {
   "cell_type": "code",
   "execution_count": 36,
   "metadata": {},
   "outputs": [],
   "source": [
    "from pyspark.sql.functions import * \n",
    "deportistaDF = deportistaDF.select(\"deportista_id\", \"nombre\",\n",
    "                   col(\"edad\").alias(\"edadAlJugar\"), \"equipo_id\")"
   ]
  },
  {
   "cell_type": "code",
   "execution_count": 37,
   "metadata": {},
   "outputs": [
    {
     "name": "stdout",
     "output_type": "stream",
     "text": [
      "+-------------+--------------------+-----------+---------+\n",
      "|deportista_id|              nombre|edadAlJugar|equipo_id|\n",
      "+-------------+--------------------+-----------+---------+\n",
      "|            1|           A Dijiang|         24|      199|\n",
      "|            2|            A Lamusi|         23|      199|\n",
      "|            3| Gunnar Nielsen Aaby|         24|      273|\n",
      "|            4|Edgar Lindenau Aabye|         34|      278|\n",
      "|            5|Christine Jacoba ...|         21|      705|\n",
      "+-------------+--------------------+-----------+---------+\n",
      "only showing top 5 rows\n",
      "\n"
     ]
    }
   ],
   "source": [
    "deportistaDF.show(5)"
   ]
  },
  {
   "cell_type": "code",
   "execution_count": 38,
   "metadata": {},
   "outputs": [
    {
     "name": "stderr",
     "output_type": "stream",
     "text": [
      "[Stage 12:=============================>                            (1 + 1) / 2]\r"
     ]
    },
    {
     "name": "stdout",
     "output_type": "stream",
     "text": [
      "+-------------+--------------------+-----------+---------+\n",
      "|deportista_id|              nombre|edadAlJugar|equipo_id|\n",
      "+-------------+--------------------+-----------+---------+\n",
      "|          224|     Mohamed AbdelEl|          0|      308|\n",
      "|          487|      Inni Aboubacar|          0|      721|\n",
      "|          226|Sanad Bushara Abd...|          0|     1003|\n",
      "|           58|    Georgi Abadzhiev|          0|      154|\n",
      "|          230|    Moustafa Abdelal|          0|      308|\n",
      "|          102|   Sayed Fahmy Abaza|          0|      308|\n",
      "|          260|  Ahmed Abdo Mustafa|          0|     1003|\n",
      "|          139|George Ioannis Abbot|          0|     1043|\n",
      "|          281|      S. Abdul Hamid|          0|      487|\n",
      "|          163|     Ismail Abdallah|          0|     1095|\n",
      "|          285|Talal Hassoun Abd...|          0|      497|\n",
      "|          173| Mohamed Abdel Fatah|          0|     1003|\n",
      "|          179|Ibrahim Saad Abde...|          0|     1003|\n",
      "|          378|     Angelik Abebame|          0|        0|\n",
      "|          294|Mohamed Ghulom Ab...|          0|       81|\n",
      "|          186| Mohamed Abdel Hafiz|          0|     1095|\n",
      "|          300|     A. Abdul Razzak|          0|      497|\n",
      "|          190| Ibrahim Abdel Hamid|          0|      308|\n",
      "|          301|Mohamed Abdul Razzak|          0|      497|\n",
      "|          209|Ibrahim Abdel Rahman|          0|     1095|\n",
      "+-------------+--------------------+-----------+---------+\n",
      "only showing top 20 rows\n",
      "\n"
     ]
    },
    {
     "name": "stderr",
     "output_type": "stream",
     "text": [
      "\r",
      "                                                                                \r"
     ]
    }
   ],
   "source": [
    "deportistaDF.sort(\"edadAlJugar\").show()"
   ]
  },
  {
   "cell_type": "markdown",
   "metadata": {},
   "source": [
    "# Filtrar consultas"
   ]
  },
  {
   "cell_type": "code",
   "execution_count": 39,
   "metadata": {},
   "outputs": [],
   "source": [
    "deportistaDF = deportistaDF.filter(deportistaDF.edadAlJugar != 0)"
   ]
  },
  {
   "cell_type": "code",
   "execution_count": 40,
   "metadata": {},
   "outputs": [
    {
     "name": "stderr",
     "output_type": "stream",
     "text": [
      "\r",
      "[Stage 13:=============================>                            (1 + 1) / 2]\r"
     ]
    },
    {
     "name": "stdout",
     "output_type": "stream",
     "text": [
      "+-------------+--------------------+-----------+---------+\n",
      "|deportista_id|              nombre|edadAlJugar|equipo_id|\n",
      "+-------------+--------------------+-----------+---------+\n",
      "|        71691|  Dimitrios Loundras|         10|      333|\n",
      "|        70616|          Liu Luyang|         11|      199|\n",
      "|       118925|Megan Olwen Deven...|         11|      413|\n",
      "|        52070|        Etsuko Inada|         11|      514|\n",
      "|        22411|Magdalena Cecilia...|         11|      413|\n",
      "|        40129|    Luigina Giavotti|         11|      507|\n",
      "|        47618|Sonja Henie Toppi...|         11|      742|\n",
      "|        76675|   Marcelle Matthews|         11|      967|\n",
      "|        37333|Carlos Bienvenido...|         11|      982|\n",
      "|        51268|      Beatrice Hutiu|         11|      861|\n",
      "|       126307|        Liana Vicens|         11|      825|\n",
      "|        48939|             Ho Gang|         12|      738|\n",
      "|        49142|        Jan Hoffmann|         12|      302|\n",
      "|        42835|   Werner Grieshofer|         12|       71|\n",
      "|        54620|Belita Gladys Lyn...|         12|      413|\n",
      "|        31203|Patricia Anne Pat...|         12|      967|\n",
      "|        43528|Antoinette Joyce ...|         12|      172|\n",
      "|        46578|        Diana Hatler|         12|      825|\n",
      "|        59727|Marika Kilius Zah...|         12|      399|\n",
      "|        40296|    Alain C. Giletti|         12|      362|\n",
      "+-------------+--------------------+-----------+---------+\n",
      "only showing top 20 rows\n",
      "\n"
     ]
    },
    {
     "name": "stderr",
     "output_type": "stream",
     "text": [
      "\r",
      "                                                                                \r"
     ]
    }
   ],
   "source": [
    "deportistaDF.sort(\"edadAlJugar\").show()"
   ]
  },
  {
   "cell_type": "code",
   "execution_count": 41,
   "metadata": {},
   "outputs": [
    {
     "name": "stdout",
     "output_type": "stream",
     "text": [
      "root\n",
      " |-- deportista_id: integer (nullable = true)\n",
      " |-- nombre: string (nullable = true)\n",
      " |-- edadAlJugar: integer (nullable = true)\n",
      " |-- equipo_id: integer (nullable = true)\n",
      "\n"
     ]
    }
   ],
   "source": [
    "deportistaDF.printSchema()"
   ]
  },
  {
   "cell_type": "code",
   "execution_count": 42,
   "metadata": {},
   "outputs": [
    {
     "name": "stdout",
     "output_type": "stream",
     "text": [
      "root\n",
      " |-- resultado_id: integer (nullable = true)\n",
      " |-- medalla: string (nullable = true)\n",
      " |-- deportista_id: integer (nullable = true)\n",
      " |-- juego_id: integer (nullable = true)\n",
      " |-- evento_id: integer (nullable = true)\n",
      "\n"
     ]
    }
   ],
   "source": [
    "resultadosDF.printSchema()"
   ]
  },
  {
   "cell_type": "code",
   "execution_count": 43,
   "metadata": {},
   "outputs": [
    {
     "name": "stdout",
     "output_type": "stream",
     "text": [
      "root\n",
      " |-- juego_id: integer (nullable = true)\n",
      " |-- annio: string (nullable = true)\n",
      " |-- temporada: string (nullable = true)\n",
      " |-- ciudad: string (nullable = true)\n",
      "\n"
     ]
    }
   ],
   "source": [
    "juegoDF.printSchema()"
   ]
  },
  {
   "cell_type": "code",
   "execution_count": 44,
   "metadata": {},
   "outputs": [
    {
     "name": "stdout",
     "output_type": "stream",
     "text": [
      "root\n",
      " |-- deporte_id: integer (nullable = true)\n",
      " |-- deporte: string (nullable = true)\n",
      "\n"
     ]
    }
   ],
   "source": [
    "deporteDF.printSchema()"
   ]
  },
  {
   "cell_type": "code",
   "execution_count": 45,
   "metadata": {},
   "outputs": [
    {
     "ename": "AttributeError",
     "evalue": "'DataFrame' object has no attribute 'evento_id'",
     "output_type": "error",
     "traceback": [
      "\u001b[0;31m---------------------------------------------------------------------------\u001b[0m",
      "\u001b[0;31mAttributeError\u001b[0m                            Traceback (most recent call last)",
      "\u001b[0;32m/tmp/ipykernel_216/3917166029.py\u001b[0m in \u001b[0;36m<module>\u001b[0;34m\u001b[0m\n\u001b[1;32m      1\u001b[0m \u001b[0mdeportistaDF\u001b[0m\u001b[0;34m.\u001b[0m\u001b[0mjoin\u001b[0m\u001b[0;34m(\u001b[0m\u001b[0mresultadosDF\u001b[0m\u001b[0;34m,\u001b[0m \u001b[0mdeportistaDF\u001b[0m\u001b[0;34m.\u001b[0m\u001b[0mdeportista_id\u001b[0m \u001b[0;34m==\u001b[0m \u001b[0mresultadosDF\u001b[0m\u001b[0;34m.\u001b[0m\u001b[0mdeportista_id\u001b[0m\u001b[0;34m,\u001b[0m \u001b[0;34m\"left\"\u001b[0m\u001b[0;34m)\u001b[0m\u001b[0;31m \u001b[0m\u001b[0;31m\\\u001b[0m\u001b[0;34m\u001b[0m\u001b[0;34m\u001b[0m\u001b[0m\n\u001b[1;32m      2\u001b[0m     \u001b[0;34m.\u001b[0m\u001b[0mjoin\u001b[0m\u001b[0;34m(\u001b[0m\u001b[0mjuegoDF\u001b[0m\u001b[0;34m,\u001b[0m \u001b[0mjuegoDF\u001b[0m\u001b[0;34m.\u001b[0m\u001b[0mjuego_id\u001b[0m \u001b[0;34m==\u001b[0m \u001b[0mresultadosDF\u001b[0m\u001b[0;34m.\u001b[0m\u001b[0mjuego_id\u001b[0m\u001b[0;34m,\u001b[0m \u001b[0;34m\"left\"\u001b[0m\u001b[0;34m)\u001b[0m\u001b[0;31m\\\u001b[0m\u001b[0;34m\u001b[0m\u001b[0;34m\u001b[0m\u001b[0m\n\u001b[0;32m----> 3\u001b[0;31m     \u001b[0;34m.\u001b[0m\u001b[0mjoin\u001b[0m\u001b[0;34m(\u001b[0m\u001b[0mdeporteDF\u001b[0m\u001b[0;34m,\u001b[0m \u001b[0mdeporteDF\u001b[0m\u001b[0;34m.\u001b[0m\u001b[0mevento_id\u001b[0m \u001b[0;34m==\u001b[0m \u001b[0mresultadosDF\u001b[0m\u001b[0;34m.\u001b[0m\u001b[0mevento_id\u001b[0m\u001b[0;34m,\u001b[0m \u001b[0;34m\"left\"\u001b[0m\u001b[0;34m)\u001b[0m\u001b[0;31m\\\u001b[0m\u001b[0;34m\u001b[0m\u001b[0;34m\u001b[0m\u001b[0m\n\u001b[0m\u001b[1;32m      4\u001b[0m     .select(deportistaDF.nombre, col(\"edad\").alias(\"Edad al jugar\"),\n\u001b[1;32m      5\u001b[0m            \u001b[0;34m\"medalla\"\u001b[0m\u001b[0;34m,\u001b[0m \u001b[0mcol\u001b[0m\u001b[0;34m(\u001b[0m\u001b[0;34m\"anio\"\u001b[0m\u001b[0;34m)\u001b[0m\u001b[0;34m.\u001b[0m\u001b[0malias\u001b[0m\u001b[0;34m(\u001b[0m\u001b[0;34m\"Año de juego\"\u001b[0m\u001b[0;34m)\u001b[0m\u001b[0;34m,\u001b[0m\u001b[0;34m\u001b[0m\u001b[0;34m\u001b[0m\u001b[0m\n",
      "\u001b[0;32m~/.local/lib/python3.8/site-packages/pyspark/sql/dataframe.py\u001b[0m in \u001b[0;36m__getattr__\u001b[0;34m(self, name)\u001b[0m\n\u001b[1;32m   1657\u001b[0m         \"\"\"\n\u001b[1;32m   1658\u001b[0m         \u001b[0;32mif\u001b[0m \u001b[0mname\u001b[0m \u001b[0;32mnot\u001b[0m \u001b[0;32min\u001b[0m \u001b[0mself\u001b[0m\u001b[0;34m.\u001b[0m\u001b[0mcolumns\u001b[0m\u001b[0;34m:\u001b[0m\u001b[0;34m\u001b[0m\u001b[0;34m\u001b[0m\u001b[0m\n\u001b[0;32m-> 1659\u001b[0;31m             raise AttributeError(\n\u001b[0m\u001b[1;32m   1660\u001b[0m                 \"'%s' object has no attribute '%s'\" % (self.__class__.__name__, name))\n\u001b[1;32m   1661\u001b[0m         \u001b[0mjc\u001b[0m \u001b[0;34m=\u001b[0m \u001b[0mself\u001b[0m\u001b[0;34m.\u001b[0m\u001b[0m_jdf\u001b[0m\u001b[0;34m.\u001b[0m\u001b[0mapply\u001b[0m\u001b[0;34m(\u001b[0m\u001b[0mname\u001b[0m\u001b[0;34m)\u001b[0m\u001b[0;34m\u001b[0m\u001b[0;34m\u001b[0m\u001b[0m\n",
      "\u001b[0;31mAttributeError\u001b[0m: 'DataFrame' object has no attribute 'evento_id'"
     ]
    }
   ],
   "source": [
    "deportistaDF.join(resultadosDF, deportistaDF.deportista_id == resultadosDF.deportista_id, \"left\") \\\n",
    "    .join(juegoDF, juegoDF.juego_id == resultadosDF.juego_id, \"left\")\\\n",
    "    .join(deporteDF, deporteDF.evento_id == resultadosDF.evento_id, \"left\")\\\n",
    "    .select(deportistaDF.nombre, col(\"edad\").alias(\"Edad al jugar\"),\n",
    "           \"medalla\", col(\"anio\").alias(\"Año de juego\"),\n",
    "            deporteDF.deporte.alias(\"Nombre de disciplina\")).show()"
   ]
  },
  {
   "cell_type": "code",
   "execution_count": 46,
   "metadata": {},
   "outputs": [
    {
     "name": "stderr",
     "output_type": "stream",
     "text": [
      "                                                                                \r"
     ]
    },
    {
     "name": "stdout",
     "output_type": "stream",
     "text": [
      "+-------+--------------+-----+\n",
      "|medalla|        equipo|sigla|\n",
      "+-------+--------------+-----+\n",
      "|   Gold|Denmark/Sweden|  SWE|\n",
      "| Bronze|       Finland|  FIN|\n",
      "| Bronze|       Finland|  FIN|\n",
      "| Bronze|       Finland|  FIN|\n",
      "| Bronze|       Finland|  FIN|\n",
      "|   Gold|       Finland|  FIN|\n",
      "|   Gold|       Finland|  FIN|\n",
      "|   Gold|       Finland|  FIN|\n",
      "| Bronze|       Finland|  FIN|\n",
      "|   Gold|        Norway|  NOR|\n",
      "| Bronze|        Norway|  NOR|\n",
      "| Silver|        Norway|  NOR|\n",
      "| Bronze|        Norway|  NOR|\n",
      "| Silver|        Norway|  NOR|\n",
      "|   Gold|        Norway|  NOR|\n",
      "|   Gold|        Norway|  NOR|\n",
      "|   Gold|        Norway|  NOR|\n",
      "|   Gold|        Norway|  NOR|\n",
      "| Silver|        Norway|  NOR|\n",
      "| Bronze|   Netherlands|  NED|\n",
      "+-------+--------------+-----+\n",
      "only showing top 20 rows\n",
      "\n"
     ]
    }
   ],
   "source": [
    "\n",
    "resultadosDF.join(deportistaDF,\n",
    "                  on=[resultadosDF.deportista_id == deportistaDF.deportista_id],\n",
    "                  how='left'\n",
    "                 ).join(paisesDF,\n",
    "                        on=[deportistaDF.equipo_id == paisesDF.id]\n",
    "            ).select('medalla', 'equipo', 'sigla').filter(~(resultadosDF.medalla == 'NA')).show()"
   ]
  },
  {
   "cell_type": "markdown",
   "metadata": {},
   "source": [
    "# Medalla por pais y equipo:"
   ]
  },
  {
   "cell_type": "code",
   "execution_count": 47,
   "metadata": {},
   "outputs": [
    {
     "name": "stdout",
     "output_type": "stream",
     "text": [
      "root\n",
      " |-- deportista_id: integer (nullable = true)\n",
      " |-- nombre: string (nullable = true)\n",
      " |-- edadAlJugar: integer (nullable = true)\n",
      " |-- equipo_id: integer (nullable = true)\n",
      "\n"
     ]
    }
   ],
   "source": [
    "deportistaDF.printSchema()"
   ]
  },
  {
   "cell_type": "code",
   "execution_count": 48,
   "metadata": {},
   "outputs": [
    {
     "name": "stdout",
     "output_type": "stream",
     "text": [
      "root\n",
      " |-- resultado_id: integer (nullable = true)\n",
      " |-- medalla: string (nullable = true)\n",
      " |-- deportista_id: integer (nullable = true)\n",
      " |-- juego_id: integer (nullable = true)\n",
      " |-- evento_id: integer (nullable = true)\n",
      "\n"
     ]
    }
   ],
   "source": [
    "resultadosDF.printSchema()"
   ]
  },
  {
   "cell_type": "code",
   "execution_count": 49,
   "metadata": {},
   "outputs": [
    {
     "name": "stdout",
     "output_type": "stream",
     "text": [
      "root\n",
      " |-- id: integer (nullable = true)\n",
      " |-- equipo: string (nullable = true)\n",
      " |-- sigla: string (nullable = true)\n",
      "\n"
     ]
    }
   ],
   "source": [
    "paisesDF.printSchema()"
   ]
  },
  {
   "cell_type": "code",
   "execution_count": 50,
   "metadata": {},
   "outputs": [
    {
     "name": "stdout",
     "output_type": "stream",
     "text": [
      "+-------+--------------+-----+\n",
      "|medalla|        equipo|sigla|\n",
      "+-------+--------------+-----+\n",
      "|   Gold|Denmark/Sweden|  SWE|\n",
      "| Bronze|       Finland|  FIN|\n",
      "| Bronze|       Finland|  FIN|\n",
      "| Bronze|       Finland|  FIN|\n",
      "| Bronze|       Finland|  FIN|\n",
      "|   Gold|       Finland|  FIN|\n",
      "|   Gold|       Finland|  FIN|\n",
      "|   Gold|       Finland|  FIN|\n",
      "| Bronze|       Finland|  FIN|\n",
      "|   Gold|        Norway|  NOR|\n",
      "| Bronze|        Norway|  NOR|\n",
      "| Silver|        Norway|  NOR|\n",
      "| Bronze|        Norway|  NOR|\n",
      "| Silver|        Norway|  NOR|\n",
      "|   Gold|        Norway|  NOR|\n",
      "|   Gold|        Norway|  NOR|\n",
      "|   Gold|        Norway|  NOR|\n",
      "|   Gold|        Norway|  NOR|\n",
      "| Silver|        Norway|  NOR|\n",
      "| Bronze|   Netherlands|  NED|\n",
      "+-------+--------------+-----+\n",
      "only showing top 20 rows\n",
      "\n"
     ]
    }
   ],
   "source": [
    "\n",
    "resultadosDF.join(deportistaDF,\n",
    "                  on=[resultadosDF.deportista_id == deportistaDF.deportista_id],\n",
    "                  how='left'\n",
    "                 ).join(paisesDF,\n",
    "                        on=[deportistaDF.equipo_id == paisesDF.id]\n",
    "            ).select('medalla', 'equipo', 'sigla').filter(~(resultadosDF.medalla == 'NA')).show()"
   ]
  },
  {
   "cell_type": "markdown",
   "metadata": {},
   "source": [
    "# Funciones de agregación con joins anidados"
   ]
  },
  {
   "cell_type": "code",
   "execution_count": 54,
   "metadata": {},
   "outputs": [
    {
     "name": "stdout",
     "output_type": "stream",
     "text": [
      "root\n",
      " |-- deporte_id: integer (nullable = true)\n",
      " |-- deporte: string (nullable = true)\n",
      "\n"
     ]
    }
   ],
   "source": [
    "deporteDF.printSchema()"
   ]
  },
  {
   "cell_type": "code",
   "execution_count": 57,
   "metadata": {},
   "outputs": [],
   "source": [
    "medallistaXAnio = deportistaDF\\\n",
    "    .join(resultadosDF, deportistaDF.deportista_id==resultadosDF.deportista_id, \"left\")\\\n",
    "    .join(juegoDF, juegoDF.juego_id==resultadosDF.juego_id,\"left\")\\\n",
    "    .join(paisesDF, deportistaDF.equipo_id==paisesDF.id, \"left\")\\\n",
    "    .select(\"sigla\",\n",
    "          \"annio\",\n",
    "          \"medalla\",\n",
    "          deportistaDF.nombre,)"
   ]
  },
  {
   "cell_type": "code",
   "execution_count": 59,
   "metadata": {},
   "outputs": [
    {
     "name": "stderr",
     "output_type": "stream",
     "text": [
      "21/10/31 08:55:33 WARN CSVHeaderChecker: CSV header does not conform to the schema.\n",
      " Header: , nombre_juego\n",
      " Schema: juego_id, annio\n",
      "Expected: juego_id but found: \n",
      "CSV file: file:///mnt/c/Users/LENOVO/Desktop/Carlos/spark_para_big_data/Platzi_resources/curso-apache-spark-platzi/files/juegos.csv\n"
     ]
    },
    {
     "name": "stdout",
     "output_type": "stream",
     "text": [
      "+-----+-------------+-------+--------------------+\n",
      "|sigla|        annio|medalla|              nombre|\n",
      "+-----+-------------+-------+--------------------+\n",
      "|  CHN|  1992 Verano|     NA|           A Dijiang|\n",
      "|  CHN|  2012 Verano|     NA|            A Lamusi|\n",
      "|  DEN|  1920 Verano|     NA| Gunnar Nielsen Aaby|\n",
      "|  SWE|  1900 Verano|   Gold|Edgar Lindenau Aabye|\n",
      "|  NED|1994 Invierno|     NA|Christine Jacoba ...|\n",
      "|  NED|1994 Invierno|     NA|Christine Jacoba ...|\n",
      "|  NED|1992 Invierno|     NA|Christine Jacoba ...|\n",
      "|  NED|1992 Invierno|     NA|Christine Jacoba ...|\n",
      "|  NED|1988 Invierno|     NA|Christine Jacoba ...|\n",
      "|  NED|1988 Invierno|     NA|Christine Jacoba ...|\n",
      "|  USA|1994 Invierno|     NA|     Per Knut Aaland|\n",
      "|  USA|1994 Invierno|     NA|     Per Knut Aaland|\n",
      "|  USA|1994 Invierno|     NA|     Per Knut Aaland|\n",
      "|  USA|1994 Invierno|     NA|     Per Knut Aaland|\n",
      "|  USA|1992 Invierno|     NA|     Per Knut Aaland|\n",
      "|  USA|1992 Invierno|     NA|     Per Knut Aaland|\n",
      "|  USA|1992 Invierno|     NA|     Per Knut Aaland|\n",
      "|  USA|1992 Invierno|     NA|     Per Knut Aaland|\n",
      "|  USA|1994 Invierno|     NA|        John Aalberg|\n",
      "|  USA|1994 Invierno|     NA|        John Aalberg|\n",
      "+-----+-------------+-------+--------------------+\n",
      "only showing top 20 rows\n",
      "\n"
     ]
    }
   ],
   "source": [
    "medallistaXAnio.show()"
   ]
  },
  {
   "cell_type": "markdown",
   "metadata": {},
   "source": [
    "# Agregaciones sin agg"
   ]
  },
  {
   "cell_type": "code",
   "execution_count": 71,
   "metadata": {},
   "outputs": [],
   "source": [
    "medallistaXAnio2 = medallistaXAnio.filter(medallistaXAnio.medalla != 'NA')\\\n",
    "    .sort(\"annio\", reverse =False)\\\n",
    "    .groupBy(\"sigla\", \"annio\")\\\n",
    "    .count()"
   ]
  },
  {
   "cell_type": "code",
   "execution_count": 72,
   "metadata": {},
   "outputs": [
    {
     "name": "stderr",
     "output_type": "stream",
     "text": [
      "21/10/31 09:01:41 WARN CSVHeaderChecker: CSV header does not conform to the schema.\n",
      " Header: , nombre_juego\n",
      " Schema: juego_id, annio\n",
      "Expected: juego_id but found: \n",
      "CSV file: file:///mnt/c/Users/LENOVO/Desktop/Carlos/spark_para_big_data/Platzi_resources/curso-apache-spark-platzi/files/juegos.csv\n",
      "[Stage 57:>                                                         (0 + 1) / 1]\r"
     ]
    },
    {
     "name": "stdout",
     "output_type": "stream",
     "text": [
      "+-----+-------------+-----+\n",
      "|sigla|        annio|count|\n",
      "+-----+-------------+-----+\n",
      "|  SWE|  1976 Verano|   10|\n",
      "|  SUI|2014 Invierno|   29|\n",
      "|  AUT|  1928 Verano|    5|\n",
      "|  SYR|  1984 Verano|    1|\n",
      "|  ETH|  2004 Verano|    7|\n",
      "|  BEL|  2000 Verano|    7|\n",
      "|  MGL|  2008 Verano|    5|\n",
      "|  MAS|  2012 Verano|    2|\n",
      "|  NED|1992 Invierno|    4|\n",
      "|  ITA|  1996 Verano|   69|\n",
      "|  ARG|  2004 Verano|   49|\n",
      "|  URS|1984 Invierno|   56|\n",
      "|  DEN|  1956 Verano|    6|\n",
      "|  THA|  2008 Verano|    4|\n",
      "|  CHI|  1988 Verano|    1|\n",
      "|  GRN|  2016 Verano|    1|\n",
      "|  DEN|  1896 Verano|    6|\n",
      "|  GBR|  1980 Verano|   49|\n",
      "|  BRA|  1988 Verano|   23|\n",
      "|  SWE|  1932 Verano|   32|\n",
      "+-----+-------------+-----+\n",
      "only showing top 20 rows\n",
      "\n"
     ]
    },
    {
     "name": "stderr",
     "output_type": "stream",
     "text": [
      "\r",
      "                                                                                \r"
     ]
    }
   ],
   "source": [
    "medallistaXAnio2.show()"
   ]
  },
  {
   "cell_type": "code",
   "execution_count": 73,
   "metadata": {},
   "outputs": [
    {
     "name": "stdout",
     "output_type": "stream",
     "text": [
      "root\n",
      " |-- sigla: string (nullable = true)\n",
      " |-- annio: string (nullable = true)\n",
      " |-- count: long (nullable = false)\n",
      "\n"
     ]
    }
   ],
   "source": [
    "medallistaXAnio2.printSchema()"
   ]
  },
  {
   "cell_type": "markdown",
   "metadata": {},
   "source": [
    "# Agregaciones con agg"
   ]
  },
  {
   "cell_type": "code",
   "execution_count": 74,
   "metadata": {},
   "outputs": [
    {
     "name": "stderr",
     "output_type": "stream",
     "text": [
      "21/10/31 09:04:31 WARN CSVHeaderChecker: CSV header does not conform to the schema.\n",
      " Header: , nombre_juego\n",
      " Schema: juego_id, annio\n",
      "Expected: juego_id but found: \n",
      "CSV file: file:///mnt/c/Users/LENOVO/Desktop/Carlos/spark_para_big_data/Platzi_resources/curso-apache-spark-platzi/files/juegos.csv\n",
      "[Stage 63:>                                                         (0 + 1) / 1]\r"
     ]
    },
    {
     "name": "stdout",
     "output_type": "stream",
     "text": [
      "+-----+-------------+-----------------+-----------------+\n",
      "|sigla|        annio|Total de medallas|Medallas promedio|\n",
      "+-----+-------------+-----------------+-----------------+\n",
      "|  SWE|  1976 Verano|               10|             10.0|\n",
      "|  SUI|2014 Invierno|               29|             29.0|\n",
      "|  AUT|  1928 Verano|                5|              5.0|\n",
      "|  SYR|  1984 Verano|                1|              1.0|\n",
      "|  ETH|  2004 Verano|                7|              7.0|\n",
      "|  BEL|  2000 Verano|                7|              7.0|\n",
      "|  MGL|  2008 Verano|                5|              5.0|\n",
      "|  MAS|  2012 Verano|                2|              2.0|\n",
      "|  NED|1992 Invierno|                4|              4.0|\n",
      "|  ITA|  1996 Verano|               69|             69.0|\n",
      "|  ARG|  2004 Verano|               49|             49.0|\n",
      "|  URS|1984 Invierno|               56|             56.0|\n",
      "|  DEN|  1956 Verano|                6|              6.0|\n",
      "|  THA|  2008 Verano|                4|              4.0|\n",
      "|  CHI|  1988 Verano|                1|              1.0|\n",
      "|  GRN|  2016 Verano|                1|              1.0|\n",
      "|  DEN|  1896 Verano|                6|              6.0|\n",
      "|  GBR|  1980 Verano|               49|             49.0|\n",
      "|  BRA|  1988 Verano|               23|             23.0|\n",
      "|  SWE|  1932 Verano|               32|             32.0|\n",
      "+-----+-------------+-----------------+-----------------+\n",
      "only showing top 20 rows\n",
      "\n"
     ]
    },
    {
     "name": "stderr",
     "output_type": "stream",
     "text": [
      "\r",
      "                                                                                \r"
     ]
    }
   ],
   "source": [
    "medallistaXAnio2.groupBy(\"sigla\", \"annio\")\\\n",
    "    .agg(sum(\"count\").alias(\"Total de medallas\"),\\\n",
    "        avg(\"count\").alias(\"Medallas promedio\")).show()"
   ]
  },
  {
   "cell_type": "markdown",
   "metadata": {},
   "source": [
    "# Comoregistrar DataFrames como tablas de SQL"
   ]
  },
  {
   "cell_type": "code",
   "execution_count": 75,
   "metadata": {},
   "outputs": [
    {
     "name": "stderr",
     "output_type": "stream",
     "text": [
      "/home/thecarlos/.local/lib/python3.8/site-packages/pyspark/sql/dataframe.py:138: FutureWarning: Deprecated in 2.0, use createOrReplaceTempView instead.\n",
      "  warnings.warn(\n"
     ]
    }
   ],
   "source": [
    "resultadosDF.registerTempTable(\"resultado\")\n",
    "deportistaDF.registerTempTable(\"deportista\")\n",
    "paisesDF.registerTempTable(\"paises\")"
   ]
  },
  {
   "cell_type": "code",
   "execution_count": 76,
   "metadata": {},
   "outputs": [
    {
     "name": "stdout",
     "output_type": "stream",
     "text": [
      "+-------------+--------------------+-----------+---------+\n",
      "|deportista_id|              nombre|edadAlJugar|equipo_id|\n",
      "+-------------+--------------------+-----------+---------+\n",
      "|            1|           A Dijiang|         24|      199|\n",
      "|            2|            A Lamusi|         23|      199|\n",
      "|            3| Gunnar Nielsen Aaby|         24|      273|\n",
      "|            4|Edgar Lindenau Aabye|         34|      278|\n",
      "|            5|Christine Jacoba ...|         21|      705|\n",
      "+-------------+--------------------+-----------+---------+\n",
      "only showing top 5 rows\n",
      "\n"
     ]
    }
   ],
   "source": [
    "sqlContext.sql(\"SELECT * FROM deportista\").show(5)"
   ]
  },
  {
   "cell_type": "code",
   "execution_count": 78,
   "metadata": {},
   "outputs": [
    {
     "name": "stdout",
     "output_type": "stream",
     "text": [
      "+-------+--------+-----+\n",
      "|medalla|  equipo|sigla|\n",
      "+-------+--------+-----+\n",
      "|   Gold|Zimbabwe|  ZIM|\n",
      "|   Gold|Zimbabwe|  ZIM|\n",
      "|   Gold|Zimbabwe|  ZIM|\n",
      "| Silver|Zimbabwe|  ZIM|\n",
      "|   Gold|Zimbabwe|  ZIM|\n",
      "| Bronze|Zimbabwe|  ZIM|\n",
      "| Silver|Zimbabwe|  ZIM|\n",
      "|   Gold|Zimbabwe|  ZIM|\n",
      "| Silver|Zimbabwe|  ZIM|\n",
      "| Silver|Zimbabwe|  ZIM|\n",
      "|   Gold|Zimbabwe|  ZIM|\n",
      "|   Gold|Zimbabwe|  ZIM|\n",
      "|   Gold|Zimbabwe|  ZIM|\n",
      "|   Gold|Zimbabwe|  ZIM|\n",
      "|   Gold|Zimbabwe|  ZIM|\n",
      "|   Gold|Zimbabwe|  ZIM|\n",
      "|   Gold|Zimbabwe|  ZIM|\n",
      "|   Gold|Zimbabwe|  ZIM|\n",
      "|   Gold|Zimbabwe|  ZIM|\n",
      "|   Gold|Zimbabwe|  ZIM|\n",
      "+-------+--------+-----+\n",
      "only showing top 20 rows\n",
      "\n"
     ]
    },
    {
     "name": "stderr",
     "output_type": "stream",
     "text": [
      "\r",
      "[Stage 69:>                                                         (0 + 1) / 1]\r",
      "\r",
      "                                                                                \r"
     ]
    }
   ],
   "source": [
    "sqlContext.sql(\"\"\"\n",
    "  SELECT medalla, equipo, sigla FROM resultado r\n",
    "  JOIN deportista d\n",
    "  ON r.deportista_id = d.deportista_id\n",
    "  JOIN paises p\n",
    "  ON p.id = d.equipo_id\n",
    "  WHERE medalla <> \"NA\"\n",
    "  ORDER BY sigla DESC\n",
    "    \"\"\").show()"
   ]
  },
  {
   "cell_type": "code",
   "execution_count": 79,
   "metadata": {},
   "outputs": [
    {
     "data": {
      "text/html": [
       "\n",
       "        <div>\n",
       "            <p><b>SparkContext</b></p>\n",
       "\n",
       "            <p><a href=\"http://192.168.0.101:4040\">Spark UI</a></p>\n",
       "\n",
       "            <dl>\n",
       "              <dt>Version</dt>\n",
       "                <dd><code>v3.2.0</code></dd>\n",
       "              <dt>Master</dt>\n",
       "                <dd><code>local</code></dd>\n",
       "              <dt>AppName</dt>\n",
       "                <dd><code>DataFrames</code></dd>\n",
       "            </dl>\n",
       "        </div>\n",
       "        "
      ],
      "text/plain": [
       "<SparkContext master=local appName=DataFrames>"
      ]
     },
     "execution_count": 79,
     "metadata": {},
     "output_type": "execute_result"
    }
   ],
   "source": [
    "spark"
   ]
  },
  {
   "cell_type": "code",
   "execution_count": 82,
   "metadata": {},
   "outputs": [
    {
     "name": "stdout",
     "output_type": "stream",
     "text": [
      "deportista_id,nombre,genero,edad,altura,peso,equipo_id\r",
      "\r\n",
      "1,A Dijiang,1,24,180,80,199\r",
      "\r\n",
      "2,A Lamusi,1,23,170,60,199\r",
      "\r\n",
      "3,Gunnar Nielsen Aaby,1,24,,,273\r",
      "\r\n",
      "4,Edgar Lindenau Aabye,1,34,,,278\r",
      "\r\n"
     ]
    }
   ],
   "source": [
    "!head -n 5 /mnt/c/Users/LENOVO/Desktop/Carlos/spark_para_big_data/Platzi_resources/curso-apache-spark-platzi/files/deportistaError.csv"
   ]
  },
  {
   "cell_type": "code",
   "execution_count": 83,
   "metadata": {},
   "outputs": [],
   "source": [
    "deportistaError = spark.textFile(path+\"deportistaError.csv\")\\\n",
    "    .map(lambda l : l.split(\",\"))"
   ]
  },
  {
   "cell_type": "code",
   "execution_count": 84,
   "metadata": {},
   "outputs": [],
   "source": [
    "def eliminaEncabezado(indice, iterador):\n",
    "    return(iter(list(iterador)[1:]))"
   ]
  },
  {
   "cell_type": "code",
   "execution_count": 86,
   "metadata": {},
   "outputs": [],
   "source": [
    "deportistaError = deportistaError.mapPartitionsWithIndex(eliminaEncabezado)"
   ]
  },
  {
   "cell_type": "code",
   "execution_count": 90,
   "metadata": {},
   "outputs": [
    {
     "name": "stderr",
     "output_type": "stream",
     "text": [
      "                                                                                \r"
     ]
    },
    {
     "data": {
      "text/plain": [
       "[['1', 'A Dijiang', '1', '24', '180', '80', '199'],\n",
       " ['2', 'A Lamusi', '1', '23', '170', '60', '199'],\n",
       " ['3', 'Gunnar Nielsen Aaby', '1', '24', '', '', '273'],\n",
       " ['4', 'Edgar Lindenau Aabye', '1', '34', '', '', '278'],\n",
       " ['5', 'Christine Jacoba Aaftink', '2', '21', '185', '82', '705']]"
      ]
     },
     "execution_count": 90,
     "metadata": {},
     "output_type": "execute_result"
    }
   ],
   "source": [
    "deportistaError.take(5)"
   ]
  },
  {
   "cell_type": "code",
   "execution_count": 98,
   "metadata": {},
   "outputs": [],
   "source": [
    "deportistaError = deportistaError.map(lambda l: (\n",
    "    l[0],\n",
    "    l[1],\n",
    "    l[2],\n",
    "    l[3],\n",
    "    l[4],\n",
    "    l[5],\n",
    "    l[6],))\n",
    "\n",
    "schema = StructType([\n",
    "    StructField(\"deportista_id\", StringType(), False),\n",
    "    StructField(\"nombre\", StringType(), False),\n",
    "    StructField(\"genero\", StringType(), False),\n",
    "    StructField(\"edad\", StringType(), False),\n",
    "    StructField(\"altura\", StringType(), False),\n",
    "    StructField(\"peso\", StringType(), False),\n",
    "    StructField(\"equipo_id\", StringType(), False)\n",
    "    \n",
    "])\n",
    "\n",
    "deportistaErrorDF = sqlContext.createDataFrame(deportistaError, schema)"
   ]
  },
  {
   "cell_type": "code",
   "execution_count": 99,
   "metadata": {},
   "outputs": [
    {
     "name": "stdout",
     "output_type": "stream",
     "text": [
      "+-------------+--------------------+------+----+------+----+---------+\n",
      "|deportista_id|              nombre|genero|edad|altura|peso|equipo_id|\n",
      "+-------------+--------------------+------+----+------+----+---------+\n",
      "|            1|           A Dijiang|     1|  24|   180|  80|      199|\n",
      "|            2|            A Lamusi|     1|  23|   170|  60|      199|\n",
      "|            3| Gunnar Nielsen Aaby|     1|  24|      |    |      273|\n",
      "|            4|Edgar Lindenau Aabye|     1|  34|      |    |      278|\n",
      "|            5|Christine Jacoba ...|     2|  21|   185|  82|      705|\n",
      "|            6|     Per Knut Aaland|     1|  31|   188|  75|     1096|\n",
      "|            7|        John Aalberg|     1|  31|   183|  72|     1096|\n",
      "|            8|\"Cornelia \"\"Cor\"\"...|     2|  18|   168|    |      705|\n",
      "|            9|    Antti Sami Aalto|     1|  26|   186|  96|      350|\n",
      "|           10|\"Einar Ferdinand ...|     1|  26|      |    |      350|\n",
      "|           11|  Jorma Ilmari Aalto|     1|  22|   182|76.5|      350|\n",
      "|           12|   Jyri Tapani Aalto|     1|  31|   172|  70|      350|\n",
      "|           13|  Minna Maarit Aalto|     2|  30|   159|55.5|      350|\n",
      "|           14|Pirjo Hannele Aal...|     2|  32|   171|  65|      350|\n",
      "|           15|Arvo Ossian Aaltonen|     1|  22|      |    |      350|\n",
      "|           16|Juhamatti Tapio A...|     1|  28|   184|  85|      350|\n",
      "|           17|Paavo Johannes Aa...|     1|  28|   175|  64|      350|\n",
      "|           18|Timo Antero Aaltonen|     1|  31|   189| 130|      350|\n",
      "|           19|Win Valdemar Aalt...|     1|  54|      |    |      350|\n",
      "|           20|  Kjetil Andr Aamodt|     1|  20|   176|  85|      742|\n",
      "+-------------+--------------------+------+----+------+----+---------+\n",
      "only showing top 20 rows\n",
      "\n"
     ]
    },
    {
     "name": "stderr",
     "output_type": "stream",
     "text": [
      "\r",
      "                                                                                \r"
     ]
    }
   ],
   "source": [
    "deportistaErrorDF.show()"
   ]
  },
  {
   "cell_type": "markdown",
   "metadata": {},
   "source": [
    "A pesar de que se pudo crear exitosamente el DataFrame, no está bien. Las columnas númericas deberían de tener valores Null y no espacios en blanco. Vamos a crear una UDF para arreglar esto\n"
   ]
  },
  {
   "cell_type": "code",
   "execution_count": 100,
   "metadata": {},
   "outputs": [],
   "source": [
    "from pyspark.sql.functions import udf"
   ]
  },
  {
   "cell_type": "code",
   "execution_count": 102,
   "metadata": {},
   "outputs": [
    {
     "data": {
      "text/plain": [
       "<function __main__.<lambda>(z)>"
      ]
     },
     "execution_count": 102,
     "metadata": {},
     "output_type": "execute_result"
    }
   ],
   "source": [
    "def conversionEntero(valor):\n",
    "    return int(valor) if len (valor) > 0 else None\n",
    "\n",
    "conversionEntero_udf = udf(lambda z: conversionEntero(z), IntegerType())\n",
    "sqlContext.udf.register(\"conversionEntero_udf\", conversionEntero_udf)"
   ]
  },
  {
   "cell_type": "code",
   "execution_count": 104,
   "metadata": {},
   "outputs": [
    {
     "name": "stdout",
     "output_type": "stream",
     "text": [
      "+---------+\n",
      "|alturaUDF|\n",
      "+---------+\n",
      "|      180|\n",
      "|      170|\n",
      "|     null|\n",
      "|     null|\n",
      "|      185|\n",
      "|      188|\n",
      "|      183|\n",
      "|      168|\n",
      "|      186|\n",
      "|     null|\n",
      "|      182|\n",
      "|      172|\n",
      "|      159|\n",
      "|      171|\n",
      "|     null|\n",
      "|      184|\n",
      "|      175|\n",
      "|      189|\n",
      "|     null|\n",
      "|      176|\n",
      "+---------+\n",
      "only showing top 20 rows\n",
      "\n"
     ]
    },
    {
     "name": "stderr",
     "output_type": "stream",
     "text": [
      "Traceback (most recent call last):                                              \n",
      "  File \"/home/thecarlos/.local/lib/python3.8/site-packages/pyspark/python/lib/pyspark.zip/pyspark/daemon.py\", line 186, in manager\n",
      "  File \"/home/thecarlos/.local/lib/python3.8/site-packages/pyspark/python/lib/pyspark.zip/pyspark/daemon.py\", line 74, in worker\n",
      "  File \"/home/thecarlos/.local/lib/python3.8/site-packages/pyspark/python/lib/pyspark.zip/pyspark/worker.py\", line 663, in main\n",
      "    if read_int(infile) == SpecialLengths.END_OF_STREAM:\n",
      "  File \"/home/thecarlos/.local/lib/python3.8/site-packages/pyspark/python/lib/pyspark.zip/pyspark/serializers.py\", line 564, in read_int\n",
      "    raise EOFError\n",
      "EOFError\n"
     ]
    }
   ],
   "source": [
    "deportistaErrorDF.select(conversionEntero_udf(\"altura\").alias(\"alturaUDF\")).show()"
   ]
  },
  {
   "cell_type": "markdown",
   "metadata": {},
   "source": [
    "Particionado:\n",
    "cache() y persist()\n",
    "memoria o disco.\n",
    "\n",
    "Por defecto pyspark los almacena de forma serializada.\n",
    "\n",
    "Existen varios tipos de persistencia."
   ]
  },
  {
   "cell_type": "markdown",
   "metadata": {},
   "source": [
    "# Persistencia. Como agregar un DataFrame a la memoria"
   ]
  },
  {
   "cell_type": "code",
   "execution_count": 106,
   "metadata": {},
   "outputs": [],
   "source": [
    "from pyspark.storagelevel import StorageLevel"
   ]
  },
  {
   "cell_type": "code",
   "execution_count": 107,
   "metadata": {},
   "outputs": [
    {
     "data": {
      "text/plain": [
       "False"
      ]
     },
     "execution_count": 107,
     "metadata": {},
     "output_type": "execute_result"
    }
   ],
   "source": [
    "medallistaXAnio.is_cached"
   ]
  },
  {
   "cell_type": "code",
   "execution_count": 108,
   "metadata": {},
   "outputs": [
    {
     "name": "stderr",
     "output_type": "stream",
     "text": [
      "\r",
      "[Stage 77:>   (0 + 1) / 1][Stage 78:>   (0 + 0) / 1][Stage 79:>   (0 + 0) / 1]\r",
      "21/10/31 09:58:44 WARN CSVHeaderChecker: CSV header does not conform to the schema.\n",
      " Header: , nombre_juego\n",
      " Schema: juego_id, annio\n",
      "Expected: juego_id but found: \n",
      "CSV file: file:///mnt/c/Users/LENOVO/Desktop/Carlos/spark_para_big_data/Platzi_resources/curso-apache-spark-platzi/files/juegos.csv\n",
      "\r",
      "                                                                                \r"
     ]
    },
    {
     "data": {
      "text/plain": [
       "MapPartitionsRDD[367] at javaToPython at NativeMethodAccessorImpl.java:0"
      ]
     },
     "execution_count": 108,
     "metadata": {},
     "output_type": "execute_result"
    }
   ],
   "source": [
    "medallistaXAnio.rdd.cache()"
   ]
  },
  {
   "cell_type": "markdown",
   "metadata": {},
   "source": [
    "Saber el tipo de persistenicia"
   ]
  },
  {
   "cell_type": "markdown",
   "metadata": {},
   "source": [
    "getStorageLevel(disk,memory, useoffHeap, deserialized, replication=1) \n",
    "\n",
    "Se recomienda que la replicación sea a partir de 3"
   ]
  },
  {
   "cell_type": "code",
   "execution_count": 110,
   "metadata": {},
   "outputs": [
    {
     "data": {
      "text/plain": [
       "StorageLevel(False, True, False, False, 1)"
      ]
     },
     "execution_count": 110,
     "metadata": {},
     "output_type": "execute_result"
    }
   ],
   "source": [
    "medallistaXAnio.rdd.getStorageLevel()"
   ]
  },
  {
   "cell_type": "code",
   "execution_count": 113,
   "metadata": {},
   "outputs": [
    {
     "data": {
      "text/plain": [
       "MapPartitionsRDD[367] at javaToPython at NativeMethodAccessorImpl.java:0"
      ]
     },
     "execution_count": 113,
     "metadata": {},
     "output_type": "execute_result"
    }
   ],
   "source": [
    "#quitamos la persistencia en cache\n",
    "medallistaXAnio.rdd.unpersist()"
   ]
  },
  {
   "cell_type": "code",
   "execution_count": 114,
   "metadata": {},
   "outputs": [
    {
     "data": {
      "text/plain": [
       "MapPartitionsRDD[367] at javaToPython at NativeMethodAccessorImpl.java:0"
      ]
     },
     "execution_count": 114,
     "metadata": {},
     "output_type": "execute_result"
    }
   ],
   "source": [
    "medallistaXAnio.rdd.persist(StorageLevel.MEMORY_AND_DISK_2)"
   ]
  },
  {
   "cell_type": "code",
   "execution_count": 115,
   "metadata": {},
   "outputs": [],
   "source": [
    "#Para crear mi propio nivel de particionamiento\n",
    "StorageLevel.MEMORY_AND_DISK_3 = StorageLevel(True,True,False,False,3)"
   ]
  },
  {
   "cell_type": "code",
   "execution_count": 116,
   "metadata": {},
   "outputs": [
    {
     "data": {
      "text/plain": [
       "MapPartitionsRDD[367] at javaToPython at NativeMethodAccessorImpl.java:0"
      ]
     },
     "execution_count": 116,
     "metadata": {},
     "output_type": "execute_result"
    }
   ],
   "source": [
    "medallistaXAnio.rdd.unpersist()"
   ]
  },
  {
   "cell_type": "code",
   "execution_count": 117,
   "metadata": {},
   "outputs": [
    {
     "data": {
      "text/plain": [
       "MapPartitionsRDD[367] at javaToPython at NativeMethodAccessorImpl.java:0"
      ]
     },
     "execution_count": 117,
     "metadata": {},
     "output_type": "execute_result"
    }
   ],
   "source": [
    "medallistaXAnio.rdd.persist(StorageLevel.MEMORY_AND_DISK_3)"
   ]
  },
  {
   "cell_type": "code",
   "execution_count": null,
   "metadata": {},
   "outputs": [],
   "source": []
  }
 ],
 "metadata": {
  "kernelspec": {
   "display_name": "Python 3 (ipykernel)",
   "language": "python",
   "name": "python3"
  },
  "language_info": {
   "codemirror_mode": {
    "name": "ipython",
    "version": 3
   },
   "file_extension": ".py",
   "mimetype": "text/x-python",
   "name": "python",
   "nbconvert_exporter": "python",
   "pygments_lexer": "ipython3",
   "version": "3.8.10"
  }
 },
 "nbformat": 4,
 "nbformat_minor": 4
}
